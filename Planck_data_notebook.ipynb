{
 "cells": [
  {
   "cell_type": "code",
   "execution_count": 75,
   "metadata": {},
   "outputs": [],
   "source": [
    "import numpy as np\n",
    "import torch \n",
    "import denoising\n",
    "import importlib\n",
    "denoising = importlib.reload(denoising)\n",
    "import utils\n",
    "utils = importlib.reload(utils)\n",
    "\n",
    "\n",
    "# import packages\n",
    "import math\n",
    "np.math = math  # Redirect numpy.math to the built-in math module\n",
    "\n",
    "import glob\n"
   ]
  },
  {
   "cell_type": "code",
   "execution_count": 76,
   "metadata": {},
   "outputs": [],
   "source": [
    "# Define patch number\n",
    "patch = \"166\"\n",
    "\n",
    "base_path = f\"/Users/tsouros/Desktop/Planck data/BK_CMB_S4_north_patch/\"\n",
    "\n",
    "# Find the file using a wildcard\n",
    "i_path = glob.glob(f\"{base_path}signal/patch_{patch}/patch_{patch}_I*.npy\")[0]\n",
    "q_path = glob.glob(f\"{base_path}signal/patch_{patch}/patch_{patch}_Q*.npy\")[0]\n",
    "u_path = glob.glob(f\"{base_path}signal/patch_{patch}/patch_{patch}_U*.npy\")[0]"
   ]
  },
  {
   "cell_type": "code",
   "execution_count": 77,
   "metadata": {},
   "outputs": [],
   "source": [
    "def downsample(image):\n",
    "    func = utils.downsample_by_four\n",
    "    return func(func(image))\n"
   ]
  },
  {
   "cell_type": "code",
   "execution_count": 78,
   "metadata": {},
   "outputs": [],
   "source": [
    "# # Load it\n",
    "signal_Q = np.load(q_path)\n",
    "signal_Q = downsample(signal_Q)\n",
    "signal_Q = signal_Q[None, :, :]\n",
    "\n",
    "# Load it\n",
    "signal_U = np.load(u_path)\n",
    "signal_U = downsample(signal_U)\n",
    "signal_U = signal_U[None, :, :]\n",
    "\n",
    "# Load it\n",
    "signal_I = np.load(i_path)\n",
    "signal_I = downsample(signal_I)\n",
    "signal_I = signal_I[None, :, :]"
   ]
  },
  {
   "cell_type": "code",
   "execution_count": 79,
   "metadata": {},
   "outputs": [],
   "source": [
    "# Define base nuisance directory\n",
    "\n",
    "# Get sorted list of file paths from Stokes_Q and Stokes_U directories\n",
    "nuisance_Q = sorted(glob.glob(f\"{base_path}nuisance/patch_{patch}/Stokes_Q/patch_{patch}_noise_Q*.npy\"))\n",
    "nuisance_U = sorted(glob.glob(f\"{base_path}nuisance/patch_{patch}/Stokes_U/patch_{patch}_noise_U*.npy\"))\n",
    "\n",
    "# Load and downsample\n",
    "contamination_arr_Q = np.stack([downsample(np.load(f))[None, :, :] for f in nuisance_Q], axis=0)\n",
    "contamination_arr_U = np.stack([downsample(np.load(f))[None, :, :] for f in nuisance_U], axis=0)\n",
    "\n",
    "# Stack into shape (N_maps, 3, 768, 768)\n",
    "contamination_arr = np.stack([contamination_arr_Q, contamination_arr_U], axis=1)"
   ]
  },
  {
   "cell_type": "code",
   "execution_count": 80,
   "metadata": {},
   "outputs": [],
   "source": [
    "image_target = (signal_Q, signal_U)\n",
    "threshold_func = None\n",
    "remove_edge = False\n",
    "\n",
    "std = {\n",
    "    'single': denoising.compute_std(image_target, contamination_arr=contamination_arr,\n",
    "                                    s_cov_func=threshold_func, remove_edge=remove_edge, precision='double'),\n",
    "\n",
    "    'partial': denoising.compute_std_partial(image_target, contamination_arr, signal_I,\n",
    "                                           remove_edge=remove_edge, precision='double'),                               \n",
    "\n",
    "    'double': denoising.compute_std_double(image_target, contamination_arr=contamination_arr,\n",
    "                                           remove_edge=remove_edge, precision='double'),\n",
    "\n",
    "    'noise_mean_std': denoising.noise_mean_std(contamination_arr, remove_edge=remove_edge, precision='double')\n",
    "}"
   ]
  },
  {
   "cell_type": "code",
   "execution_count": 81,
   "metadata": {},
   "outputs": [
    {
     "name": "stdout",
     "output_type": "stream",
     "text": [
      "Starting epoch 1\n",
      "Time used:  0.32168126106262207 s\n",
      "Starting epoch 2\n"
     ]
    },
    {
     "ename": "KeyboardInterrupt",
     "evalue": "",
     "output_type": "error",
     "traceback": [
      "\u001b[31m---------------------------------------------------------------------------\u001b[39m",
      "\u001b[31mKeyboardInterrupt\u001b[39m                         Traceback (most recent call last)",
      "\u001b[36mCell\u001b[39m\u001b[36m \u001b[39m\u001b[32mIn[81]\u001b[39m\u001b[32m, line 7\u001b[39m\n\u001b[32m      5\u001b[39m \u001b[38;5;28;01mfor\u001b[39;00m i \u001b[38;5;129;01min\u001b[39;00m \u001b[38;5;28mrange\u001b[39m(n_epochs):\n\u001b[32m      6\u001b[39m     \u001b[38;5;28mprint\u001b[39m(\u001b[33mf\u001b[39m\u001b[33m'\u001b[39m\u001b[33mStarting epoch \u001b[39m\u001b[38;5;132;01m{\u001b[39;00mi+\u001b[32m1\u001b[39m\u001b[38;5;132;01m}\u001b[39;00m\u001b[33m'\u001b[39m)\n\u001b[32m----> \u001b[39m\u001b[32m7\u001b[39m     running_map = \u001b[43mdenoising\u001b[49m\u001b[43m.\u001b[49m\u001b[43mdenoise\u001b[49m\u001b[43m(\u001b[49m\u001b[43mimage_target\u001b[49m\u001b[43m,\u001b[49m\u001b[43m \u001b[49m\u001b[43mcontamination_arr\u001b[49m\u001b[43m \u001b[49m\u001b[43m=\u001b[49m\u001b[43m \u001b[49m\u001b[43mcontamination_arr\u001b[49m\u001b[43m,\u001b[49m\u001b[43m \u001b[49m\u001b[43mfixed_img\u001b[49m\u001b[43m=\u001b[49m\u001b[43msignal_I\u001b[49m\u001b[43m,\u001b[49m\u001b[43m \u001b[49m\n\u001b[32m      8\u001b[39m \u001b[43m                                    \u001b[49m\u001b[43mstd\u001b[49m\u001b[43m \u001b[49m\u001b[43m=\u001b[49m\u001b[43m \u001b[49m\u001b[43mstd\u001b[49m\u001b[43m,\u001b[49m\u001b[43m \u001b[49m\u001b[43mseed\u001b[49m\u001b[43m=\u001b[49m\u001b[32;43m0\u001b[39;49m\u001b[43m,\u001b[49m\u001b[43m \u001b[49m\u001b[43mprint_each_step\u001b[49m\u001b[43m=\u001b[49m\u001b[38;5;28;43;01mFalse\u001b[39;49;00m\u001b[43m,\u001b[49m\u001b[43m \u001b[49m\u001b[43msteps\u001b[49m\u001b[43m \u001b[49m\u001b[43m=\u001b[49m\u001b[43m \u001b[49m\u001b[32;43m25\u001b[39;49m\u001b[43m,\u001b[49m\u001b[43m \u001b[49m\u001b[43mn_batch\u001b[49m\u001b[43m \u001b[49m\u001b[43m=\u001b[49m\u001b[43m \u001b[49m\u001b[32;43m25\u001b[39;49m\u001b[43m,\u001b[49m\u001b[43m \u001b[49m\n\u001b[32m      9\u001b[39m \u001b[43m                                    \u001b[49m\u001b[43ms_cov_func\u001b[49m\u001b[43m=\u001b[49m\u001b[43mthreshold_func\u001b[49m\u001b[43m,\u001b[49m\u001b[43m \u001b[49m\u001b[43mimage_init\u001b[49m\u001b[43m \u001b[49m\u001b[43m=\u001b[49m\u001b[43m \u001b[49m\u001b[43mimage_init\u001b[49m\u001b[43m,\u001b[49m\u001b[43m \u001b[49m\u001b[43mremove_edge\u001b[49m\u001b[43m=\u001b[49m\u001b[43mremove_edge\u001b[49m\u001b[43m,\u001b[49m\u001b[43m \u001b[49m\n\u001b[32m     10\u001b[39m \u001b[43m                                    \u001b[49m\u001b[43mprecision\u001b[49m\u001b[43m=\u001b[49m\u001b[33;43m'\u001b[39;49m\u001b[33;43mdouble\u001b[39;49m\u001b[33;43m'\u001b[39;49m\u001b[43m)\u001b[49m\n\u001b[32m     11\u001b[39m     running_map = (running_map[\u001b[32m0\u001b[39m], running_map[\u001b[32m1\u001b[39m])\n\u001b[32m     13\u001b[39m     std = {\n\u001b[32m     14\u001b[39m     \u001b[33m'\u001b[39m\u001b[33msingle\u001b[39m\u001b[33m'\u001b[39m: denoising.compute_std(running_map, contamination_arr=contamination_arr,\n\u001b[32m     15\u001b[39m                                     s_cov_func=threshold_func, remove_edge=remove_edge, precision=\u001b[33m'\u001b[39m\u001b[33mdouble\u001b[39m\u001b[33m'\u001b[39m),\n\u001b[32m   (...)\u001b[39m\u001b[32m     23\u001b[39m     \u001b[33m'\u001b[39m\u001b[33mnoise_mean_std\u001b[39m\u001b[33m'\u001b[39m: std[\u001b[33m'\u001b[39m\u001b[33mnoise_mean_std\u001b[39m\u001b[33m'\u001b[39m]\n\u001b[32m     24\u001b[39m }\n",
      "\u001b[36mFile \u001b[39m\u001b[32m~/Desktop/ScatteringDenoising/denoising/__init__.py:427\u001b[39m, in \u001b[36mdenoise\u001b[39m\u001b[34m(target, contamination_arr, fixed_img, std, image_init, epochNo, n_batch, s_cov_func, s_cov_func_2fields, J, L, M, N, l_oversampling, frequency_factor, optim_algorithm, steps, learning_rate, device, wavelets, seed, if_large_batch, C11_criteria, normalization, precision, print_each_step, pseudo_coef, remove_edge)\u001b[39m\n\u001b[32m    424\u001b[39m \u001b[38;5;28;01mif\u001b[39;00m J \u001b[38;5;129;01mis\u001b[39;00m \u001b[38;5;28;01mNone\u001b[39;00m:\n\u001b[32m    425\u001b[39m     J = \u001b[38;5;28mint\u001b[39m(np.log2(\u001b[38;5;28mmin\u001b[39m(M,N))) - \u001b[32m1\u001b[39m\n\u001b[32m--> \u001b[39m\u001b[32m427\u001b[39m st_calc = \u001b[43mScattering2d\u001b[49m\u001b[43m(\u001b[49m\u001b[43mM\u001b[49m\u001b[43m,\u001b[49m\u001b[43m \u001b[49m\u001b[43mN\u001b[49m\u001b[43m,\u001b[49m\u001b[43m \u001b[49m\u001b[43mJ\u001b[49m\u001b[43m,\u001b[49m\u001b[43m \u001b[49m\u001b[43mL\u001b[49m\u001b[43m,\u001b[49m\u001b[43m \u001b[49m\u001b[43mdevice\u001b[49m\u001b[43m,\u001b[49m\u001b[43m \u001b[49m\u001b[43mwavelets\u001b[49m\u001b[43m,\u001b[49m\u001b[43m \u001b[49m\u001b[43ml_oversampling\u001b[49m\u001b[43m=\u001b[49m\u001b[43ml_oversampling\u001b[49m\u001b[43m,\u001b[49m\u001b[43m \u001b[49m\u001b[43mfrequency_factor\u001b[49m\u001b[43m=\u001b[49m\u001b[43mfrequency_factor\u001b[49m\u001b[43m)\u001b[49m\n\u001b[32m    429\u001b[39m \u001b[38;5;28;01mdef\u001b[39;00m\u001b[38;5;250m \u001b[39m\u001b[34mfunc\u001b[39m(map1, ref_map1, map2=\u001b[38;5;28;01mNone\u001b[39;00m, ref_map2=\u001b[38;5;28;01mNone\u001b[39;00m):\n\u001b[32m    430\u001b[39m     coef_list = []\n",
      "\u001b[36mFile \u001b[39m\u001b[32m~/Desktop/ScatteringDenoising/denoising/Scattering2d.py:51\u001b[39m, in \u001b[36mScattering2d.__init__\u001b[39m\u001b[34m(self, M, N, J, L, device, wavelets, filters_set, weight, precision, ref, ref_a, ref_b, l_oversampling, frequency_factor)\u001b[39m\n\u001b[32m     49\u001b[39m \u001b[38;5;28;01mif\u001b[39;00m filters_set \u001b[38;5;129;01mis\u001b[39;00m \u001b[38;5;28;01mNone\u001b[39;00m:\n\u001b[32m     50\u001b[39m     \u001b[38;5;28;01mif\u001b[39;00m wavelets \u001b[38;5;129;01min\u001b[39;00m [\u001b[33m'\u001b[39m\u001b[33mmorlet\u001b[39m\u001b[33m'\u001b[39m, \u001b[33m'\u001b[39m\u001b[33mBS\u001b[39m\u001b[33m'\u001b[39m, \u001b[33m'\u001b[39m\u001b[33mgau\u001b[39m\u001b[33m'\u001b[39m, \u001b[33m'\u001b[39m\u001b[33mshannon\u001b[39m\u001b[33m'\u001b[39m]:\n\u001b[32m---> \u001b[39m\u001b[32m51\u001b[39m         filters_set = \u001b[43mFiltersSet\u001b[49m\u001b[43m(\u001b[49m\u001b[43mM\u001b[49m\u001b[43m=\u001b[49m\u001b[43mM\u001b[49m\u001b[43m,\u001b[49m\u001b[43m \u001b[49m\u001b[43mN\u001b[49m\u001b[43m=\u001b[49m\u001b[43mN\u001b[49m\u001b[43m,\u001b[49m\u001b[43m \u001b[49m\u001b[43mJ\u001b[49m\u001b[43m=\u001b[49m\u001b[43mJ\u001b[49m\u001b[43m,\u001b[49m\u001b[43m \u001b[49m\u001b[43mL\u001b[49m\u001b[43m=\u001b[49m\u001b[43mL\u001b[49m\u001b[43m)\u001b[49m\u001b[43m.\u001b[49m\u001b[43mgenerate_wavelets\u001b[49m\u001b[43m(\u001b[49m\n\u001b[32m     52\u001b[39m \u001b[43m            \u001b[49m\u001b[43mwavelets\u001b[49m\u001b[43m=\u001b[49m\u001b[43mwavelets\u001b[49m\u001b[43m,\u001b[49m\u001b[43m \u001b[49m\u001b[43mprecision\u001b[49m\u001b[43m=\u001b[49m\u001b[43mprecision\u001b[49m\u001b[43m,\u001b[49m\u001b[43m \u001b[49m\n\u001b[32m     53\u001b[39m \u001b[43m            \u001b[49m\u001b[43ml_oversampling\u001b[49m\u001b[43m=\u001b[49m\u001b[43ml_oversampling\u001b[49m\u001b[43m,\u001b[49m\u001b[43m \u001b[49m\n\u001b[32m     54\u001b[39m \u001b[43m            \u001b[49m\u001b[43mfrequency_factor\u001b[49m\u001b[43m=\u001b[49m\u001b[43mfrequency_factor\u001b[49m\n\u001b[32m     55\u001b[39m \u001b[43m        \u001b[49m\u001b[43m)\u001b[49m\n\u001b[32m     56\u001b[39m     \u001b[38;5;28;01mif\u001b[39;00m wavelets==\u001b[33m'\u001b[39m\u001b[33mgau_harmonic\u001b[39m\u001b[33m'\u001b[39m:\n\u001b[32m     57\u001b[39m         filters_set = FiltersSet(M=M, N=N, J=J, L=L).generate_gau_harmonic(\n\u001b[32m     58\u001b[39m             precision=precision, frequency_factor=frequency_factor\n\u001b[32m     59\u001b[39m         )\n",
      "\u001b[36mFile \u001b[39m\u001b[32m~/Desktop/ScatteringDenoising/denoising/FiltersSet.py:37\u001b[39m, in \u001b[36mFiltersSet.generate_wavelets\u001b[39m\u001b[34m(self, if_save, save_dir, wavelets, precision, l_oversampling, frequency_factor)\u001b[39m\n\u001b[32m     34\u001b[39m theta0 = (\u001b[38;5;28mint\u001b[39m(\u001b[38;5;28mself\u001b[39m.L-\u001b[38;5;28mself\u001b[39m.L/\u001b[32m2\u001b[39m-\u001b[32m1\u001b[39m)-l) * np.pi / \u001b[38;5;28mself\u001b[39m.L\n\u001b[32m     36\u001b[39m \u001b[38;5;28;01mif\u001b[39;00m wavelets==\u001b[33m'\u001b[39m\u001b[33mmorlet\u001b[39m\u001b[33m'\u001b[39m:\n\u001b[32m---> \u001b[39m\u001b[32m37\u001b[39m     wavelet_spatial = \u001b[38;5;28;43mself\u001b[39;49m\u001b[43m.\u001b[49m\u001b[43mmorlet_2d\u001b[49m\u001b[43m(\u001b[49m\n\u001b[32m     38\u001b[39m \u001b[43m        \u001b[49m\u001b[43mM\u001b[49m\u001b[43m=\u001b[49m\u001b[38;5;28;43mself\u001b[39;49m\u001b[43m.\u001b[49m\u001b[43mM\u001b[49m\u001b[43m,\u001b[49m\u001b[43m \u001b[49m\u001b[43mN\u001b[49m\u001b[43m=\u001b[49m\u001b[38;5;28;43mself\u001b[39;49m\u001b[43m.\u001b[49m\u001b[43mN\u001b[49m\u001b[43m,\u001b[49m\u001b[43m \u001b[49m\u001b[43mxi\u001b[49m\u001b[43m=\u001b[49m\u001b[43mk0\u001b[49m\u001b[43m,\u001b[49m\u001b[43m \u001b[49m\u001b[43mtheta\u001b[49m\u001b[43m=\u001b[49m\u001b[43mtheta0\u001b[49m\u001b[43m,\u001b[49m\n\u001b[32m     39\u001b[39m \u001b[43m        \u001b[49m\u001b[43msigma\u001b[49m\u001b[43m=\u001b[49m\u001b[32;43m0.8\u001b[39;49m\u001b[43m \u001b[49m\u001b[43m*\u001b[49m\u001b[43m \u001b[49m\u001b[32;43m2\u001b[39;49m\u001b[43m*\u001b[49m\u001b[43m*\u001b[49m\u001b[43mj\u001b[49m\u001b[43m \u001b[49m\u001b[43m/\u001b[49m\u001b[43m \u001b[49m\u001b[43mfrequency_factor\u001b[49m\u001b[43m,\u001b[49m\u001b[43m \u001b[49m\n\u001b[32m     40\u001b[39m \u001b[43m        \u001b[49m\u001b[43mslant\u001b[49m\u001b[43m=\u001b[49m\u001b[32;43m4.0\u001b[39;49m\u001b[43m \u001b[49m\u001b[43m/\u001b[49m\u001b[43m \u001b[49m\u001b[38;5;28;43mself\u001b[39;49m\u001b[43m.\u001b[49m\u001b[43mL\u001b[49m\u001b[43m \u001b[49m\u001b[43m*\u001b[49m\u001b[43m \u001b[49m\u001b[43ml_oversampling\u001b[49m\u001b[43m,\u001b[49m\n\u001b[32m     41\u001b[39m \u001b[43m    \u001b[49m\u001b[43m)\u001b[49m\n\u001b[32m     42\u001b[39m     wavelet_Fourier = np.fft.fft2(wavelet_spatial)\n\u001b[32m     43\u001b[39m \u001b[38;5;28;01mif\u001b[39;00m wavelets==\u001b[33m'\u001b[39m\u001b[33mBS\u001b[39m\u001b[33m'\u001b[39m:\n",
      "\u001b[36mFile \u001b[39m\u001b[32m~/Desktop/ScatteringDenoising/denoising/FiltersSet.py:129\u001b[39m, in \u001b[36mFiltersSet.morlet_2d\u001b[39m\u001b[34m(self, M, N, sigma, theta, xi, slant, offset, fft_shift)\u001b[39m\n\u001b[32m     98\u001b[39m \u001b[38;5;28;01mdef\u001b[39;00m\u001b[38;5;250m \u001b[39m\u001b[34mmorlet_2d\u001b[39m(\u001b[38;5;28mself\u001b[39m, M, N, sigma, theta, xi, slant=\u001b[32m0.5\u001b[39m, offset=\u001b[32m0\u001b[39m, fft_shift=\u001b[38;5;28;01mFalse\u001b[39;00m):\n\u001b[32m     99\u001b[39m \u001b[38;5;250m    \u001b[39m\u001b[33;03m\"\"\"\u001b[39;00m\n\u001b[32m    100\u001b[39m \u001b[33;03m        (from kymatio package) \u001b[39;00m\n\u001b[32m    101\u001b[39m \u001b[33;03m        Computes a 2D Morlet filter.\u001b[39;00m\n\u001b[32m   (...)\u001b[39m\u001b[32m    127\u001b[39m \u001b[33;03m            numpy array of size (M, N)\u001b[39;00m\n\u001b[32m    128\u001b[39m \u001b[33;03m    \"\"\"\u001b[39;00m\n\u001b[32m--> \u001b[39m\u001b[32m129\u001b[39m     wv = \u001b[38;5;28;43mself\u001b[39;49m\u001b[43m.\u001b[49m\u001b[43mgabor_2d_mycode\u001b[49m\u001b[43m(\u001b[49m\u001b[43mM\u001b[49m\u001b[43m,\u001b[49m\u001b[43m \u001b[49m\u001b[43mN\u001b[49m\u001b[43m,\u001b[49m\u001b[43m \u001b[49m\u001b[43msigma\u001b[49m\u001b[43m,\u001b[49m\u001b[43m \u001b[49m\u001b[43mtheta\u001b[49m\u001b[43m,\u001b[49m\u001b[43m \u001b[49m\u001b[43mxi\u001b[49m\u001b[43m,\u001b[49m\u001b[43m \u001b[49m\u001b[43mslant\u001b[49m\u001b[43m,\u001b[49m\u001b[43m \u001b[49m\u001b[43moffset\u001b[49m\u001b[43m,\u001b[49m\u001b[43m \u001b[49m\u001b[43mfft_shift\u001b[49m\u001b[43m)\u001b[49m\n\u001b[32m    130\u001b[39m     wv_modulus = \u001b[38;5;28mself\u001b[39m.gabor_2d_mycode(M, N, sigma, theta, \u001b[32m0\u001b[39m, slant, offset, fft_shift)\n\u001b[32m    131\u001b[39m     K = wv.sum() / wv_modulus.sum()\n",
      "\u001b[36mFile \u001b[39m\u001b[32m~/Desktop/ScatteringDenoising/denoising/FiltersSet.py:182\u001b[39m, in \u001b[36mFiltersSet.gabor_2d_mycode\u001b[39m\u001b[34m(self, M, N, sigma, theta, xi, slant, offset, fft_shift)\u001b[39m\n\u001b[32m    175\u001b[39m         xx[ii,jj], yy[ii,jj] = np.mgrid[\n\u001b[32m    176\u001b[39m             offset + ex * M : offset + M + ex * M, \n\u001b[32m    177\u001b[39m             offset + ey * N : offset + N + ey * N\n\u001b[32m    178\u001b[39m         ]\n\u001b[32m    180\u001b[39m arg = -(curv[\u001b[32m0\u001b[39m, \u001b[32m0\u001b[39m] * xx * xx + (curv[\u001b[32m0\u001b[39m, \u001b[32m1\u001b[39m] + curv[\u001b[32m1\u001b[39m, \u001b[32m0\u001b[39m]) * xx * yy + curv[\u001b[32m1\u001b[39m, \u001b[32m1\u001b[39m] * yy * yy) +\\\n\u001b[32m    181\u001b[39m     \u001b[32m1.\u001b[39mj * (xx * xi * np.cos(theta) + yy * xi * np.sin(theta))\n\u001b[32m--> \u001b[39m\u001b[32m182\u001b[39m gab = \u001b[43mnp\u001b[49m\u001b[43m.\u001b[49m\u001b[43mexp\u001b[49m\u001b[43m(\u001b[49m\u001b[43marg\u001b[49m\u001b[43m)\u001b[49m.sum((\u001b[32m0\u001b[39m,\u001b[32m1\u001b[39m))\n\u001b[32m    184\u001b[39m norm_factor = \u001b[32m2\u001b[39m * np.pi * sigma * sigma / slant\n\u001b[32m    185\u001b[39m gab = gab / norm_factor\n",
      "\u001b[31mKeyboardInterrupt\u001b[39m: "
     ]
    }
   ],
   "source": [
    "image_init = image_target\n",
    "\n",
    "n_epochs = 3 #number of epochs\n",
    "# decontaminate\n",
    "for i in range(n_epochs):\n",
    "    print(f'Starting epoch {i+1}')\n",
    "    running_map = denoising.denoise(image_target, contamination_arr = contamination_arr, fixed_img=signal_I, \n",
    "                                    std = std, seed=0, print_each_step=False, steps = 25, n_batch = 25, \n",
    "                                    s_cov_func=threshold_func, image_init = image_init, remove_edge=remove_edge, \n",
    "                                    precision='double')\n",
    "    running_map = (running_map[0], running_map[1])\n",
    "\n",
    "    std = {\n",
    "    'single': denoising.compute_std(running_map, contamination_arr=contamination_arr,\n",
    "                                    s_cov_func=threshold_func, remove_edge=remove_edge, precision='double'),\n",
    "\n",
    "    'partial': denoising.compute_std_partial(running_map, contamination_arr, signal_I,\n",
    "                                           remove_edge=remove_edge, precision='double'),                               \n",
    "\n",
    "    'double': denoising.compute_std_double(running_map, contamination_arr=contamination_arr,\n",
    "                                           remove_edge=remove_edge, precision='double'),\n",
    "\n",
    "    'noise_mean_std': std['noise_mean_std']\n",
    "}\n",
    "\n",
    "image_syn_Q = running_map[0]\n",
    "image_syn_U = running_map[1]"
   ]
  },
  {
   "cell_type": "code",
   "execution_count": 66,
   "metadata": {},
   "outputs": [],
   "source": [
    "# Convert tuples to NumPy arrays\n",
    "image_denoised = np.stack([image_syn_Q[0], image_syn_U[0]])  # Ensure it's an array\n",
    "\n",
    "# Save results\n",
    "np.save(f\"image_denoised_patch_{patch}.npy\", image_denoised)"
   ]
  },
  {
   "cell_type": "code",
   "execution_count": null,
   "metadata": {},
   "outputs": [
    {
     "ename": "NameError",
     "evalue": "name 'image_syn_I' is not defined",
     "output_type": "error",
     "traceback": [
      "\u001b[31m---------------------------------------------------------------------------\u001b[39m",
      "\u001b[31mNameError\u001b[39m                                 Traceback (most recent call last)",
      "\u001b[36mCell\u001b[39m\u001b[36m \u001b[39m\u001b[32mIn[67]\u001b[39m\u001b[32m, line 2\u001b[39m\n\u001b[32m      1\u001b[39m \u001b[38;5;66;03m# Convert tuples to NumPy arrays\u001b[39;00m\n\u001b[32m----> \u001b[39m\u001b[32m2\u001b[39m image_denoised = np.stack([\u001b[43mimage_syn_I\u001b[49m[\u001b[32m0\u001b[39m], image_syn_Q[\u001b[32m0\u001b[39m], image_syn_U[\u001b[32m0\u001b[39m]])  \u001b[38;5;66;03m# Ensure it's an array\u001b[39;00m\n\u001b[32m      4\u001b[39m \u001b[38;5;66;03m# Save results\u001b[39;00m\n\u001b[32m      5\u001b[39m np.save(\u001b[33mf\u001b[39m\u001b[33m\"\u001b[39m\u001b[33mimage_denoised_patch_\u001b[39m\u001b[38;5;132;01m{\u001b[39;00mpatch\u001b[38;5;132;01m}\u001b[39;00m\u001b[33m_test.npy\u001b[39m\u001b[33m\"\u001b[39m, image_denoised)\n",
      "\u001b[31mNameError\u001b[39m: name 'image_syn_I' is not defined"
     ]
    }
   ],
   "source": [
    "# Convert tuples to NumPy arrays\n",
    "image_denoised = np.stack([image_syn_I[0], image_syn_Q[0], image_syn_U[0]])  # Ensure it's an array\n",
    "\n",
    "# Save results\n",
    "np.save(f\"image_denoised_patch_{patch}_test.npy\", image_denoised)"
   ]
  }
 ],
 "metadata": {
  "kernelspec": {
   "display_name": "healpy_env",
   "language": "python",
   "name": "python3"
  },
  "language_info": {
   "codemirror_mode": {
    "name": "ipython",
    "version": 3
   },
   "file_extension": ".py",
   "mimetype": "text/x-python",
   "name": "python",
   "nbconvert_exporter": "python",
   "pygments_lexer": "ipython3",
   "version": "3.11.12"
  }
 },
 "nbformat": 4,
 "nbformat_minor": 2
}
