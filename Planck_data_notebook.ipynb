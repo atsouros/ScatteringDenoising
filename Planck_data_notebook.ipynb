{
 "cells": [
  {
   "cell_type": "code",
   "execution_count": 1,
   "metadata": {},
   "outputs": [],
   "source": [
    "import numpy as np\n",
    "import torch \n",
    "import denoising\n",
    "import importlib\n",
    "denoising = importlib.reload(denoising)\n",
    "import utils\n",
    "utils = importlib.reload(utils)\n",
    "\n",
    "\n",
    "# import packages\n",
    "import math\n",
    "np.math = math  # Redirect numpy.math to the built-in math module\n",
    "\n",
    "import glob\n"
   ]
  },
  {
   "cell_type": "code",
   "execution_count": 2,
   "metadata": {},
   "outputs": [],
   "source": [
    "# Define patch number\n",
    "patch = \"166\"\n",
    "\n",
    "base_path = f\"/Users/tsouros/Desktop/Planck data/BK_CMB_S4_north_patch/\"\n",
    "\n",
    "# Find the file using a wildcard\n",
    "i_path = glob.glob(f\"{base_path}signal/patch_{patch}/patch_{patch}_I*.npy\")[0]\n",
    "q_path = glob.glob(f\"{base_path}signal/patch_{patch}/patch_{patch}_Q*.npy\")[0]\n",
    "u_path = glob.glob(f\"{base_path}signal/patch_{patch}/patch_{patch}_U*.npy\")[0]"
   ]
  },
  {
   "cell_type": "code",
   "execution_count": 3,
   "metadata": {},
   "outputs": [],
   "source": [
    "def downsample(image):\n",
    "    func = utils.downsample_by_four\n",
    "    return func(func(image))\n"
   ]
  },
  {
   "cell_type": "code",
   "execution_count": 4,
   "metadata": {},
   "outputs": [],
   "source": [
    "# # Load it\n",
    "signal_Q = np.load(q_path)\n",
    "signal_Q = downsample(signal_Q)\n",
    "signal_Q = signal_Q[None, :, :]\n",
    "\n",
    "# Load it\n",
    "signal_U = np.load(u_path)\n",
    "signal_U = downsample(signal_U)\n",
    "signal_U = signal_U[None, :, :]\n",
    "\n",
    "# Load it\n",
    "signal_I = np.load(i_path)\n",
    "signal_I = downsample(signal_I)\n",
    "signal_I = signal_I[None, :, :]"
   ]
  },
  {
   "cell_type": "code",
   "execution_count": 5,
   "metadata": {},
   "outputs": [],
   "source": [
    "# Define base nuisance directory\n",
    "\n",
    "# Get sorted list of file paths from Stokes_Q and Stokes_U directories\n",
    "nuisance_Q = sorted(glob.glob(f\"{base_path}nuisance/patch_{patch}/Stokes_Q/patch_{patch}_noise_Q*.npy\"))\n",
    "nuisance_U = sorted(glob.glob(f\"{base_path}nuisance/patch_{patch}/Stokes_U/patch_{patch}_noise_U*.npy\"))\n",
    "\n",
    "# Load and downsample\n",
    "contamination_arr_Q = np.stack([downsample(np.load(f))[None, :, :] for f in nuisance_Q], axis=0)\n",
    "contamination_arr_U = np.stack([downsample(np.load(f))[None, :, :] for f in nuisance_U], axis=0)\n",
    "\n",
    "# Stack into shape (N_maps, 3, 768, 768)\n",
    "contamination_arr = np.stack([contamination_arr_Q, contamination_arr_U], axis=1)"
   ]
  },
  {
   "cell_type": "code",
   "execution_count": 6,
   "metadata": {},
   "outputs": [],
   "source": [
    "image_target = (signal_Q, signal_U)\n",
    "threshold_func = None\n",
    "remove_edge = False\n",
    "\n",
    "std = {\n",
    "    'single': denoising.compute_std(image_target, contamination_arr=contamination_arr,\n",
    "                                    s_cov_func=threshold_func, remove_edge=remove_edge, precision='double'),\n",
    "\n",
    "    'partial': denoising.compute_std_partial(image_target, contamination_arr, signal_I,\n",
    "                                           remove_edge=remove_edge, precision='double'),                               \n",
    "\n",
    "    'double': denoising.compute_std_double(image_target, contamination_arr=contamination_arr,\n",
    "                                           remove_edge=remove_edge, precision='double'),\n",
    "\n",
    "    'noise_mean_std': denoising.noise_mean_std(contamination_arr, remove_edge=remove_edge, precision='double')\n",
    "}"
   ]
  },
  {
   "cell_type": "code",
   "execution_count": null,
   "metadata": {},
   "outputs": [
    {
     "name": "stdout",
     "output_type": "stream",
     "text": [
      "Starting epoch 1\n"
     ]
    },
    {
     "ename": "RuntimeError",
     "evalue": "Loss is NaN! Terminating process...",
     "output_type": "error",
     "traceback": [
      "\u001b[31m---------------------------------------------------------------------------\u001b[39m",
      "\u001b[31mRuntimeError\u001b[39m                              Traceback (most recent call last)",
      "\u001b[36mCell\u001b[39m\u001b[36m \u001b[39m\u001b[32mIn[7]\u001b[39m\u001b[32m, line 7\u001b[39m\n\u001b[32m      5\u001b[39m \u001b[38;5;28;01mfor\u001b[39;00m i \u001b[38;5;129;01min\u001b[39;00m \u001b[38;5;28mrange\u001b[39m(n_epochs):\n\u001b[32m      6\u001b[39m     \u001b[38;5;28mprint\u001b[39m(\u001b[33mf\u001b[39m\u001b[33m'\u001b[39m\u001b[33mStarting epoch \u001b[39m\u001b[38;5;132;01m{\u001b[39;00mi+\u001b[32m1\u001b[39m\u001b[38;5;132;01m}\u001b[39;00m\u001b[33m'\u001b[39m)\n\u001b[32m----> \u001b[39m\u001b[32m7\u001b[39m     running_map = \u001b[43mdenoising\u001b[49m\u001b[43m.\u001b[49m\u001b[43mdenoise\u001b[49m\u001b[43m(\u001b[49m\u001b[43mimage_target\u001b[49m\u001b[43m,\u001b[49m\u001b[43m \u001b[49m\u001b[43mcontamination_arr\u001b[49m\u001b[43m \u001b[49m\u001b[43m=\u001b[49m\u001b[43m \u001b[49m\u001b[43mcontamination_arr\u001b[49m\u001b[43m,\u001b[49m\u001b[43m \u001b[49m\u001b[43mfixed_img\u001b[49m\u001b[43m=\u001b[49m\u001b[43msignal_I\u001b[49m\u001b[43m,\u001b[49m\u001b[43m \u001b[49m\n\u001b[32m      8\u001b[39m \u001b[43m                                    \u001b[49m\u001b[43mstd\u001b[49m\u001b[43m \u001b[49m\u001b[43m=\u001b[49m\u001b[43m \u001b[49m\u001b[43mstd\u001b[49m\u001b[43m,\u001b[49m\u001b[43m \u001b[49m\u001b[43mseed\u001b[49m\u001b[43m=\u001b[49m\u001b[32;43m0\u001b[39;49m\u001b[43m,\u001b[49m\u001b[43m \u001b[49m\u001b[43mprint_each_step\u001b[49m\u001b[43m=\u001b[49m\u001b[38;5;28;43;01mTrue\u001b[39;49;00m\u001b[43m,\u001b[49m\u001b[43m \u001b[49m\u001b[43msteps\u001b[49m\u001b[43m \u001b[49m\u001b[43m=\u001b[49m\u001b[43m \u001b[49m\u001b[32;43m25\u001b[39;49m\u001b[43m,\u001b[49m\u001b[43m \u001b[49m\u001b[43mn_batch\u001b[49m\u001b[43m \u001b[49m\u001b[43m=\u001b[49m\u001b[43m \u001b[49m\u001b[32;43m25\u001b[39;49m\u001b[43m,\u001b[49m\u001b[43m \u001b[49m\n\u001b[32m      9\u001b[39m \u001b[43m                                    \u001b[49m\u001b[43ms_cov_func\u001b[49m\u001b[43m=\u001b[49m\u001b[43mthreshold_func\u001b[49m\u001b[43m,\u001b[49m\u001b[43m \u001b[49m\u001b[43mimage_init\u001b[49m\u001b[43m \u001b[49m\u001b[43m=\u001b[49m\u001b[43m \u001b[49m\u001b[43mimage_init\u001b[49m\u001b[43m,\u001b[49m\u001b[43m \u001b[49m\u001b[43mremove_edge\u001b[49m\u001b[43m=\u001b[49m\u001b[43mremove_edge\u001b[49m\u001b[43m,\u001b[49m\u001b[43m \u001b[49m\n\u001b[32m     10\u001b[39m \u001b[43m                                    \u001b[49m\u001b[43mprecision\u001b[49m\u001b[43m=\u001b[49m\u001b[33;43m'\u001b[39;49m\u001b[33;43mdouble\u001b[39;49m\u001b[33;43m'\u001b[39;49m\u001b[43m)\u001b[49m\n\u001b[32m     12\u001b[39m     running_map = (running_map[\u001b[32m0\u001b[39m], running_map[\u001b[32m1\u001b[39m])\n\u001b[32m     14\u001b[39m     std = {\n\u001b[32m     15\u001b[39m     \u001b[38;5;66;03m# 'single': denoising.compute_std(running_map, contamination_arr=contamination_arr,\u001b[39;00m\n\u001b[32m     16\u001b[39m                                     \u001b[38;5;66;03m# s_cov_func=threshold_func, remove_edge=remove_edge, precision='double'),\u001b[39;00m\n\u001b[32m   (...)\u001b[39m\u001b[32m     24\u001b[39m     \u001b[33m'\u001b[39m\u001b[33mnoise_mean_std\u001b[39m\u001b[33m'\u001b[39m: std[\u001b[33m'\u001b[39m\u001b[33mnoise_mean_std\u001b[39m\u001b[33m'\u001b[39m]\n\u001b[32m     25\u001b[39m }\n",
      "\u001b[36mFile \u001b[39m\u001b[32m~/Desktop/ScatteringDenoising/denoising/__init__.py:700\u001b[39m, in \u001b[36mdenoise\u001b[39m\u001b[34m(target, contamination_arr, fixed_img, std, image_init, epochNo, n_batch, s_cov_func, s_cov_func_2fields, J, L, M, N, l_oversampling, frequency_factor, optim_algorithm, steps, learning_rate, device, wavelets, seed, if_large_batch, C11_criteria, normalization, precision, print_each_step, pseudo_coef, remove_edge)\u001b[39m\n\u001b[32m    697\u001b[39m     \u001b[38;5;28;01mreturn\u001b[39;00m mean_val\n\u001b[32m    698\u001b[39m \u001b[38;5;66;03m# return squared_norms.mean()\u001b[39;00m\n\u001b[32m--> \u001b[39m\u001b[32m700\u001b[39m image_syn = \u001b[43mdenoise_general\u001b[49m\u001b[43m(\u001b[49m\n\u001b[32m    701\u001b[39m \u001b[43m\u001b[49m\u001b[43mtarget\u001b[49m\u001b[43m,\u001b[49m\u001b[43m \u001b[49m\u001b[43mimage_init\u001b[49m\u001b[43m,\u001b[49m\u001b[43m \u001b[49m\u001b[43mfunc\u001b[49m\u001b[43m,\u001b[49m\u001b[43m \u001b[49m\u001b[43mloss_func\u001b[49m\u001b[43m,\u001b[49m\u001b[43m  \u001b[49m\n\u001b[32m    702\u001b[39m \u001b[43m\u001b[49m\u001b[43moptim_algorithm\u001b[49m\u001b[43m=\u001b[49m\u001b[43moptim_algorithm\u001b[49m\u001b[43m,\u001b[49m\u001b[43m \u001b[49m\u001b[43msteps\u001b[49m\u001b[43m=\u001b[49m\u001b[43msteps\u001b[49m\u001b[43m,\u001b[49m\u001b[43m \u001b[49m\u001b[43mlearning_rate\u001b[49m\u001b[43m=\u001b[49m\u001b[43mlearning_rate\u001b[49m\u001b[43m,\u001b[49m\n\u001b[32m    703\u001b[39m \u001b[43m\u001b[49m\u001b[43mdevice\u001b[49m\u001b[43m=\u001b[49m\u001b[43mdevice\u001b[49m\u001b[43m,\u001b[49m\u001b[43m \u001b[49m\u001b[43mprecision\u001b[49m\u001b[43m=\u001b[49m\u001b[43mprecision\u001b[49m\u001b[43m,\u001b[49m\u001b[43m \u001b[49m\u001b[43mprint_each_step\u001b[49m\u001b[43m=\u001b[49m\u001b[43mprint_each_step\u001b[49m\n\u001b[32m    704\u001b[39m \u001b[43m\u001b[49m\u001b[43m)\u001b[49m\n\u001b[32m    706\u001b[39m \u001b[38;5;28;01mreturn\u001b[39;00m image_syn\n",
      "\u001b[36mFile \u001b[39m\u001b[32m~/Desktop/ScatteringDenoising/denoising/__init__.py:787\u001b[39m, in \u001b[36mdenoise_general\u001b[39m\u001b[34m(target, image_init, estimator_function, loss_function, optim_algorithm, steps, learning_rate, device, precision, print_each_step)\u001b[39m\n\u001b[32m    785\u001b[39m t_start = time.time()\n\u001b[32m    786\u001b[39m \u001b[38;5;28;01mif\u001b[39;00m optim_algorithm == \u001b[33m'\u001b[39m\u001b[33mLBFGS\u001b[39m\u001b[33m'\u001b[39m:\n\u001b[32m--> \u001b[39m\u001b[32m787\u001b[39m     \u001b[43moptimizer\u001b[49m\u001b[43m.\u001b[49m\u001b[43mstep\u001b[49m\u001b[43m(\u001b[49m\u001b[43mclosure\u001b[49m\u001b[43m)\u001b[49m\n\u001b[32m    788\u001b[39m \u001b[38;5;28;01melse\u001b[39;00m:\n\u001b[32m    789\u001b[39m     \u001b[38;5;28;01mfor\u001b[39;00m i \u001b[38;5;129;01min\u001b[39;00m \u001b[38;5;28mrange\u001b[39m(steps):\n",
      "\u001b[36mFile \u001b[39m\u001b[32m~/anaconda3/envs/healpy_env/lib/python3.11/site-packages/torch/optim/optimizer.py:487\u001b[39m, in \u001b[36mOptimizer.profile_hook_step.<locals>.wrapper\u001b[39m\u001b[34m(*args, **kwargs)\u001b[39m\n\u001b[32m    482\u001b[39m         \u001b[38;5;28;01melse\u001b[39;00m:\n\u001b[32m    483\u001b[39m             \u001b[38;5;28;01mraise\u001b[39;00m \u001b[38;5;167;01mRuntimeError\u001b[39;00m(\n\u001b[32m    484\u001b[39m                 \u001b[33mf\u001b[39m\u001b[33m\"\u001b[39m\u001b[38;5;132;01m{\u001b[39;00mfunc\u001b[38;5;132;01m}\u001b[39;00m\u001b[33m must return None or a tuple of (new_args, new_kwargs), but got \u001b[39m\u001b[38;5;132;01m{\u001b[39;00mresult\u001b[38;5;132;01m}\u001b[39;00m\u001b[33m.\u001b[39m\u001b[33m\"\u001b[39m\n\u001b[32m    485\u001b[39m             )\n\u001b[32m--> \u001b[39m\u001b[32m487\u001b[39m out = \u001b[43mfunc\u001b[49m\u001b[43m(\u001b[49m\u001b[43m*\u001b[49m\u001b[43margs\u001b[49m\u001b[43m,\u001b[49m\u001b[43m \u001b[49m\u001b[43m*\u001b[49m\u001b[43m*\u001b[49m\u001b[43mkwargs\u001b[49m\u001b[43m)\u001b[49m\n\u001b[32m    488\u001b[39m \u001b[38;5;28mself\u001b[39m._optimizer_step_code()\n\u001b[32m    490\u001b[39m \u001b[38;5;66;03m# call optimizer step post hooks\u001b[39;00m\n",
      "\u001b[36mFile \u001b[39m\u001b[32m~/anaconda3/envs/healpy_env/lib/python3.11/site-packages/torch/utils/_contextlib.py:116\u001b[39m, in \u001b[36mcontext_decorator.<locals>.decorate_context\u001b[39m\u001b[34m(*args, **kwargs)\u001b[39m\n\u001b[32m    113\u001b[39m \u001b[38;5;129m@functools\u001b[39m.wraps(func)\n\u001b[32m    114\u001b[39m \u001b[38;5;28;01mdef\u001b[39;00m\u001b[38;5;250m \u001b[39m\u001b[34mdecorate_context\u001b[39m(*args, **kwargs):\n\u001b[32m    115\u001b[39m     \u001b[38;5;28;01mwith\u001b[39;00m ctx_factory():\n\u001b[32m--> \u001b[39m\u001b[32m116\u001b[39m         \u001b[38;5;28;01mreturn\u001b[39;00m \u001b[43mfunc\u001b[49m\u001b[43m(\u001b[49m\u001b[43m*\u001b[49m\u001b[43margs\u001b[49m\u001b[43m,\u001b[49m\u001b[43m \u001b[49m\u001b[43m*\u001b[49m\u001b[43m*\u001b[49m\u001b[43mkwargs\u001b[49m\u001b[43m)\u001b[49m\n",
      "\u001b[36mFile \u001b[39m\u001b[32m~/anaconda3/envs/healpy_env/lib/python3.11/site-packages/torch/optim/lbfgs.py:330\u001b[39m, in \u001b[36mLBFGS.step\u001b[39m\u001b[34m(self, closure)\u001b[39m\n\u001b[32m    327\u001b[39m state.setdefault(\u001b[33m\"\u001b[39m\u001b[33mn_iter\u001b[39m\u001b[33m\"\u001b[39m, \u001b[32m0\u001b[39m)\n\u001b[32m    329\u001b[39m \u001b[38;5;66;03m# evaluate initial f(x) and df/dx\u001b[39;00m\n\u001b[32m--> \u001b[39m\u001b[32m330\u001b[39m orig_loss = \u001b[43mclosure\u001b[49m\u001b[43m(\u001b[49m\u001b[43m)\u001b[49m\n\u001b[32m    331\u001b[39m loss = \u001b[38;5;28mfloat\u001b[39m(orig_loss)\n\u001b[32m    332\u001b[39m current_evals = \u001b[32m1\u001b[39m\n",
      "\u001b[36mFile \u001b[39m\u001b[32m~/anaconda3/envs/healpy_env/lib/python3.11/site-packages/torch/utils/_contextlib.py:116\u001b[39m, in \u001b[36mcontext_decorator.<locals>.decorate_context\u001b[39m\u001b[34m(*args, **kwargs)\u001b[39m\n\u001b[32m    113\u001b[39m \u001b[38;5;129m@functools\u001b[39m.wraps(func)\n\u001b[32m    114\u001b[39m \u001b[38;5;28;01mdef\u001b[39;00m\u001b[38;5;250m \u001b[39m\u001b[34mdecorate_context\u001b[39m(*args, **kwargs):\n\u001b[32m    115\u001b[39m     \u001b[38;5;28;01mwith\u001b[39;00m ctx_factory():\n\u001b[32m--> \u001b[39m\u001b[32m116\u001b[39m         \u001b[38;5;28;01mreturn\u001b[39;00m \u001b[43mfunc\u001b[49m\u001b[43m(\u001b[49m\u001b[43m*\u001b[49m\u001b[43margs\u001b[49m\u001b[43m,\u001b[49m\u001b[43m \u001b[49m\u001b[43m*\u001b[49m\u001b[43m*\u001b[49m\u001b[43mkwargs\u001b[49m\u001b[43m)\u001b[49m\n",
      "\u001b[36mFile \u001b[39m\u001b[32m~/Desktop/ScatteringDenoising/denoising/__init__.py:774\u001b[39m, in \u001b[36mdenoise_general.<locals>.closure\u001b[39m\u001b[34m()\u001b[39m\n\u001b[32m    772\u001b[39m \u001b[38;5;66;03m# Check for NaN loss\u001b[39;00m\n\u001b[32m    773\u001b[39m \u001b[38;5;28;01mif\u001b[39;00m torch.isnan(loss):\n\u001b[32m--> \u001b[39m\u001b[32m774\u001b[39m     \u001b[38;5;28;01mraise\u001b[39;00m \u001b[38;5;167;01mRuntimeError\u001b[39;00m(\u001b[33m\"\u001b[39m\u001b[33mLoss is NaN! Terminating process...\u001b[39m\u001b[33m\"\u001b[39m)\n\u001b[32m    776\u001b[39m \u001b[38;5;66;03m# Print progress if required \u001b[39;00m\n\u001b[32m    777\u001b[39m \u001b[38;5;28;01mif\u001b[39;00m print_each_step:\n",
      "\u001b[31mRuntimeError\u001b[39m: Loss is NaN! Terminating process..."
     ]
    }
   ],
   "source": [
    "image_init = image_target\n",
    "\n",
    "n_epochs = 3 #number of epochs\n",
    "# decontaminate\n",
    "for i in range(n_epochs):\n",
    "    print(f'Starting epoch {i+1}')\n",
    "    running_map = denoising.denoise(image_target, contamination_arr = contamination_arr, fixed_img=signal_I, \n",
    "                                    std = std, seed=0, print_each_step=True, steps = 25, n_batch = 25, \n",
    "                                    s_cov_func=threshold_func, image_init = image_init, remove_edge=remove_edge, \n",
    "                                    precision='double')\n",
    "    \n",
    "    running_map = (running_map[0], running_map[1])\n",
    "\n",
    "    std = {\n",
    "    'single': denoising.compute_std(running_map, contamination_arr=contamination_arr,\n",
    "                                    s_cov_func=threshold_func, remove_edge=remove_edge, precision='double'),\n",
    "\n",
    "    'partial': denoising.compute_std_partial(running_map, contamination_arr, signal_I,\n",
    "                                           remove_edge=remove_edge, precision='double'),                               \n",
    "\n",
    "    'double': denoising.compute_std_double(running_map, contamination_arr=contamination_arr,\n",
    "                                           remove_edge=remove_edge, precision='double'),\n",
    "\n",
    "    'noise_mean_std': std['noise_mean_std']\n",
    "}\n",
    "\n",
    "image_syn_Q = running_map[0]\n",
    "image_syn_U = running_map[1]"
   ]
  },
  {
   "cell_type": "code",
   "execution_count": 66,
   "metadata": {},
   "outputs": [],
   "source": [
    "# Convert tuples to NumPy arrays\n",
    "image_denoised = np.stack([image_syn_Q[0], image_syn_U[0]])  # Ensure it's an array\n",
    "\n",
    "# Save results\n",
    "np.save(f\"image_denoised_patch_{patch}.npy\", image_denoised)"
   ]
  },
  {
   "cell_type": "code",
   "execution_count": null,
   "metadata": {},
   "outputs": [],
   "source": [
    "# Convert tuples to NumPy arrays\n",
    "image_denoised = np.stack([image_syn_I[0], image_syn_Q[0], image_syn_U[0]])  # Ensure it's an array\n",
    "\n",
    "# Save results\n",
    "np.save(f\"image_denoised_patch_{patch}_test.npy\", image_denoised)"
   ]
  }
 ],
 "metadata": {
  "kernelspec": {
   "display_name": "healpy_env",
   "language": "python",
   "name": "python3"
  },
  "language_info": {
   "codemirror_mode": {
    "name": "ipython",
    "version": 3
   },
   "file_extension": ".py",
   "mimetype": "text/x-python",
   "name": "python",
   "nbconvert_exporter": "python",
   "pygments_lexer": "ipython3",
   "version": "3.11.12"
  }
 },
 "nbformat": 4,
 "nbformat_minor": 2
}
