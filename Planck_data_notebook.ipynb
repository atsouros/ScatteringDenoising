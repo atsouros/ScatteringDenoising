{
 "cells": [
  {
   "cell_type": "code",
   "execution_count": 34,
   "metadata": {},
   "outputs": [],
   "source": [
    "import numpy as np\n",
    "import torch \n",
    "import denoising\n",
    "import importlib\n",
    "denoising = importlib.reload(denoising)\n",
    "import utils\n",
    "utils = importlib.reload(utils)\n",
    "\n",
    "\n",
    "# import packages\n",
    "import math\n",
    "np.math = math  # Redirect numpy.math to the built-in math module\n",
    "\n",
    "import glob\n"
   ]
  },
  {
   "cell_type": "code",
   "execution_count": 35,
   "metadata": {},
   "outputs": [],
   "source": [
    "# Define patch number\n",
    "patch = \"166\"\n",
    "\n",
    "base_path = f\"/Users/tsouros/Desktop/Planck data/BK_CMB_S4_north_patch/\"\n",
    "\n",
    "# Find the file using a wildcard\n",
    "i_path = glob.glob(f\"{base_path}signal/patch_{patch}/patch_{patch}_I*.npy\")[0]\n",
    "q_path = glob.glob(f\"{base_path}signal/patch_{patch}/patch_{patch}_Q*.npy\")[0]\n",
    "u_path = glob.glob(f\"{base_path}signal/patch_{patch}/patch_{patch}_U*.npy\")[0]"
   ]
  },
  {
   "cell_type": "code",
   "execution_count": 36,
   "metadata": {},
   "outputs": [],
   "source": [
    "def downsample(image):\n",
    "    func = utils.downsample_by_four\n",
    "    return func(func(image))\n"
   ]
  },
  {
   "cell_type": "code",
   "execution_count": 37,
   "metadata": {},
   "outputs": [],
   "source": [
    "# # Load it\n",
    "signal_Q = np.load(q_path)\n",
    "signal_Q = downsample(signal_Q)\n",
    "signal_Q = signal_Q[None, :, :]\n",
    "\n",
    "# Load it\n",
    "signal_U = np.load(u_path)\n",
    "signal_U = downsample(signal_U)\n",
    "signal_U = signal_U[None, :, :]\n",
    "\n",
    "# Load it\n",
    "signal_I = np.load(i_path)\n",
    "signal_I = downsample(signal_I)\n",
    "signal_I = signal_I[None, :, :]"
   ]
  },
  {
   "cell_type": "code",
   "execution_count": 38,
   "metadata": {},
   "outputs": [],
   "source": [
    "# Define base nuisance directory\n",
    "\n",
    "# Get sorted list of file paths from Stokes_Q and Stokes_U directories\n",
    "nuisance_Q = sorted(glob.glob(f\"{base_path}nuisance/patch_{patch}/Stokes_Q/patch_{patch}_noise_Q*.npy\"))\n",
    "nuisance_U = sorted(glob.glob(f\"{base_path}nuisance/patch_{patch}/Stokes_U/patch_{patch}_noise_U*.npy\"))\n",
    "\n",
    "# Load and downsample\n",
    "contamination_arr_Q = np.stack([downsample(np.load(f))[None, :, :] for f in nuisance_Q], axis=0)\n",
    "contamination_arr_U = np.stack([downsample(np.load(f))[None, :, :] for f in nuisance_U], axis=0)\n",
    "\n",
    "# Stack into shape (N_maps, 3, 768, 768)\n",
    "contamination_arr = np.stack([contamination_arr_Q, contamination_arr_U], axis=1)"
   ]
  },
  {
   "cell_type": "code",
   "execution_count": 39,
   "metadata": {},
   "outputs": [],
   "source": [
    "image_target = (signal_Q, signal_U)\n",
    "threshold_func = None\n",
    "remove_edge = False\n",
    "\n",
    "std = {\n",
    "    'single': denoising.compute_std(image_target, contamination_arr=contamination_arr,\n",
    "                                    s_cov_func=threshold_func, remove_edge=remove_edge, precision='double'),\n",
    "\n",
    "    'partial': denoising.compute_std_partial(image_target, contamination_arr, signal_I,\n",
    "                                           remove_edge=remove_edge, precision='double'),                               \n",
    "\n",
    "    'double': denoising.compute_std_double(image_target, contamination_arr=contamination_arr,\n",
    "                                           remove_edge=remove_edge, precision='double'),\n",
    "\n",
    "    'noise_mean_std': denoising.noise_mean_std(contamination_arr, remove_edge=remove_edge, precision='double')\n",
    "}"
   ]
  },
  {
   "cell_type": "code",
   "execution_count": 40,
   "metadata": {},
   "outputs": [
    {
     "name": "stdout",
     "output_type": "stream",
     "text": [
      "tensor(0.0014, dtype=torch.float64)\n",
      "tensor(0.0023, dtype=torch.float64)\n"
     ]
    }
   ],
   "source": [
    "print(torch.mean(std['single'][0]))\n",
    "print(torch.mean(std['noise_mean_std'][0][1]))"
   ]
  },
  {
   "cell_type": "code",
   "execution_count": 41,
   "metadata": {},
   "outputs": [
    {
     "name": "stdout",
     "output_type": "stream",
     "text": [
      "Starting epoch 1\n",
      "Current Loss: 6.90e+00\n",
      "Current Loss: 6.96e+00\n",
      "Current Loss: 7.17e+00\n",
      "Current Loss: 7.41e+00\n",
      "Current Loss: 7.70e+00\n",
      "Current Loss: 7.97e+00\n",
      "Current Loss: 8.26e+00\n",
      "Current Loss: 8.63e+00\n"
     ]
    },
    {
     "ename": "KeyboardInterrupt",
     "evalue": "",
     "output_type": "error",
     "traceback": [
      "\u001b[31m---------------------------------------------------------------------------\u001b[39m",
      "\u001b[31mKeyboardInterrupt\u001b[39m                         Traceback (most recent call last)",
      "\u001b[36mCell\u001b[39m\u001b[36m \u001b[39m\u001b[32mIn[41]\u001b[39m\u001b[32m, line 7\u001b[39m\n\u001b[32m      5\u001b[39m \u001b[38;5;28;01mfor\u001b[39;00m i \u001b[38;5;129;01min\u001b[39;00m \u001b[38;5;28mrange\u001b[39m(n_epochs):\n\u001b[32m      6\u001b[39m     \u001b[38;5;28mprint\u001b[39m(\u001b[33mf\u001b[39m\u001b[33m'\u001b[39m\u001b[33mStarting epoch \u001b[39m\u001b[38;5;132;01m{\u001b[39;00mi+\u001b[32m1\u001b[39m\u001b[38;5;132;01m}\u001b[39;00m\u001b[33m'\u001b[39m)\n\u001b[32m----> \u001b[39m\u001b[32m7\u001b[39m     running_map = \u001b[43mdenoising\u001b[49m\u001b[43m.\u001b[49m\u001b[43mdenoise\u001b[49m\u001b[43m(\u001b[49m\u001b[43mimage_target\u001b[49m\u001b[43m,\u001b[49m\u001b[43m \u001b[49m\u001b[43mcontamination_arr\u001b[49m\u001b[43m \u001b[49m\u001b[43m=\u001b[49m\u001b[43m \u001b[49m\u001b[43mcontamination_arr\u001b[49m\u001b[43m,\u001b[49m\u001b[43m \u001b[49m\u001b[43mfixed_img\u001b[49m\u001b[43m=\u001b[49m\u001b[43msignal_I\u001b[49m\u001b[43m,\u001b[49m\u001b[43m \u001b[49m\u001b[43mstd\u001b[49m\u001b[43m \u001b[49m\u001b[43m=\u001b[49m\u001b[43m \u001b[49m\u001b[43mstd\u001b[49m\u001b[43m,\u001b[49m\u001b[43m \u001b[49m\u001b[43mseed\u001b[49m\u001b[43m=\u001b[49m\u001b[32;43m0\u001b[39;49m\u001b[43m,\u001b[49m\u001b[43m \u001b[49m\u001b[43mprint_each_step\u001b[49m\u001b[43m=\u001b[49m\u001b[38;5;28;43;01mTrue\u001b[39;49;00m\u001b[43m,\u001b[49m\u001b[43m \u001b[49m\u001b[43msteps\u001b[49m\u001b[43m \u001b[49m\u001b[43m=\u001b[49m\u001b[43m \u001b[49m\u001b[32;43m25\u001b[39;49m\u001b[43m,\u001b[49m\u001b[43m \u001b[49m\u001b[43mn_batch\u001b[49m\u001b[43m \u001b[49m\u001b[43m=\u001b[49m\u001b[43m \u001b[49m\u001b[32;43m25\u001b[39;49m\u001b[43m,\u001b[49m\u001b[43m \u001b[49m\u001b[43ms_cov_func\u001b[49m\u001b[43m=\u001b[49m\u001b[43mthreshold_func\u001b[49m\u001b[43m,\u001b[49m\u001b[43m \u001b[49m\u001b[43mimage_init\u001b[49m\u001b[43m \u001b[49m\u001b[43m=\u001b[49m\u001b[43m \u001b[49m\u001b[43mimage_init\u001b[49m\u001b[43m,\u001b[49m\u001b[43m \u001b[49m\u001b[43mremove_edge\u001b[49m\u001b[43m=\u001b[49m\u001b[43mremove_edge\u001b[49m\u001b[43m,\u001b[49m\u001b[43m \u001b[49m\u001b[43mprecision\u001b[49m\u001b[43m=\u001b[49m\u001b[33;43m'\u001b[39;49m\u001b[33;43mdouble\u001b[39;49m\u001b[33;43m'\u001b[39;49m\u001b[43m)\u001b[49m\n\u001b[32m      8\u001b[39m     running_map = (running_map[\u001b[32m0\u001b[39m], running_map[\u001b[32m1\u001b[39m])\n\u001b[32m     10\u001b[39m     std = {\n\u001b[32m     11\u001b[39m     \u001b[33m'\u001b[39m\u001b[33msingle\u001b[39m\u001b[33m'\u001b[39m: denoising.compute_std(running_map, contamination_arr=contamination_arr,\n\u001b[32m     12\u001b[39m                                     s_cov_func=threshold_func, remove_edge=remove_edge, precision=\u001b[33m'\u001b[39m\u001b[33mdouble\u001b[39m\u001b[33m'\u001b[39m),\n\u001b[32m   (...)\u001b[39m\u001b[32m     20\u001b[39m     \u001b[33m'\u001b[39m\u001b[33mnoise_mean_std\u001b[39m\u001b[33m'\u001b[39m: std[\u001b[33m'\u001b[39m\u001b[33mnoise_mean_std\u001b[39m\u001b[33m'\u001b[39m]\n\u001b[32m     21\u001b[39m }\n",
      "\u001b[36mFile \u001b[39m\u001b[32m~/Desktop/ScatteringDenoising/denoising/__init__.py:678\u001b[39m, in \u001b[36mdenoise\u001b[39m\u001b[34m(target, contamination_arr, fixed_img, std, image_init, epochNo, n_batch, s_cov_func, s_cov_func_2fields, J, L, M, N, l_oversampling, frequency_factor, optim_algorithm, steps, learning_rate, device, wavelets, seed, if_large_batch, C11_criteria, normalization, precision, print_each_step, pseudo_coef, remove_edge)\u001b[39m\n\u001b[32m    675\u001b[39m     \u001b[38;5;28;01mreturn\u001b[39;00m mean_val\n\u001b[32m    676\u001b[39m \u001b[38;5;66;03m# return squared_norms.mean()\u001b[39;00m\n\u001b[32m--> \u001b[39m\u001b[32m678\u001b[39m image_syn = \u001b[43mdenoise_general\u001b[49m\u001b[43m(\u001b[49m\n\u001b[32m    679\u001b[39m \u001b[43m\u001b[49m\u001b[43mtarget\u001b[49m\u001b[43m,\u001b[49m\u001b[43m \u001b[49m\u001b[43mimage_init\u001b[49m\u001b[43m,\u001b[49m\u001b[43m \u001b[49m\u001b[43mfunc\u001b[49m\u001b[43m,\u001b[49m\u001b[43m \u001b[49m\u001b[43mloss_func\u001b[49m\u001b[43m,\u001b[49m\u001b[43m  \u001b[49m\n\u001b[32m    680\u001b[39m \u001b[43m\u001b[49m\u001b[43moptim_algorithm\u001b[49m\u001b[43m=\u001b[49m\u001b[43moptim_algorithm\u001b[49m\u001b[43m,\u001b[49m\u001b[43m \u001b[49m\u001b[43msteps\u001b[49m\u001b[43m=\u001b[49m\u001b[43msteps\u001b[49m\u001b[43m,\u001b[49m\u001b[43m \u001b[49m\u001b[43mlearning_rate\u001b[49m\u001b[43m=\u001b[49m\u001b[43mlearning_rate\u001b[49m\u001b[43m,\u001b[49m\n\u001b[32m    681\u001b[39m \u001b[43m\u001b[49m\u001b[43mdevice\u001b[49m\u001b[43m=\u001b[49m\u001b[43mdevice\u001b[49m\u001b[43m,\u001b[49m\u001b[43m \u001b[49m\u001b[43mprecision\u001b[49m\u001b[43m=\u001b[49m\u001b[43mprecision\u001b[49m\u001b[43m,\u001b[49m\u001b[43m \u001b[49m\u001b[43mprint_each_step\u001b[49m\u001b[43m=\u001b[49m\u001b[43mprint_each_step\u001b[49m\n\u001b[32m    682\u001b[39m \u001b[43m\u001b[49m\u001b[43m)\u001b[49m\n\u001b[32m    684\u001b[39m \u001b[38;5;28;01mreturn\u001b[39;00m image_syn\n",
      "\u001b[36mFile \u001b[39m\u001b[32m~/Desktop/ScatteringDenoising/denoising/__init__.py:765\u001b[39m, in \u001b[36mdenoise_general\u001b[39m\u001b[34m(target, image_init, estimator_function, loss_function, optim_algorithm, steps, learning_rate, device, precision, print_each_step)\u001b[39m\n\u001b[32m    763\u001b[39m t_start = time.time()\n\u001b[32m    764\u001b[39m \u001b[38;5;28;01mif\u001b[39;00m optim_algorithm == \u001b[33m'\u001b[39m\u001b[33mLBFGS\u001b[39m\u001b[33m'\u001b[39m:\n\u001b[32m--> \u001b[39m\u001b[32m765\u001b[39m     \u001b[43moptimizer\u001b[49m\u001b[43m.\u001b[49m\u001b[43mstep\u001b[49m\u001b[43m(\u001b[49m\u001b[43mclosure\u001b[49m\u001b[43m)\u001b[49m\n\u001b[32m    766\u001b[39m \u001b[38;5;28;01melse\u001b[39;00m:\n\u001b[32m    767\u001b[39m     \u001b[38;5;28;01mfor\u001b[39;00m i \u001b[38;5;129;01min\u001b[39;00m \u001b[38;5;28mrange\u001b[39m(steps):\n",
      "\u001b[36mFile \u001b[39m\u001b[32m~/anaconda3/envs/healpy_env/lib/python3.11/site-packages/torch/optim/optimizer.py:487\u001b[39m, in \u001b[36mOptimizer.profile_hook_step.<locals>.wrapper\u001b[39m\u001b[34m(*args, **kwargs)\u001b[39m\n\u001b[32m    482\u001b[39m         \u001b[38;5;28;01melse\u001b[39;00m:\n\u001b[32m    483\u001b[39m             \u001b[38;5;28;01mraise\u001b[39;00m \u001b[38;5;167;01mRuntimeError\u001b[39;00m(\n\u001b[32m    484\u001b[39m                 \u001b[33mf\u001b[39m\u001b[33m\"\u001b[39m\u001b[38;5;132;01m{\u001b[39;00mfunc\u001b[38;5;132;01m}\u001b[39;00m\u001b[33m must return None or a tuple of (new_args, new_kwargs), but got \u001b[39m\u001b[38;5;132;01m{\u001b[39;00mresult\u001b[38;5;132;01m}\u001b[39;00m\u001b[33m.\u001b[39m\u001b[33m\"\u001b[39m\n\u001b[32m    485\u001b[39m             )\n\u001b[32m--> \u001b[39m\u001b[32m487\u001b[39m out = \u001b[43mfunc\u001b[49m\u001b[43m(\u001b[49m\u001b[43m*\u001b[49m\u001b[43margs\u001b[49m\u001b[43m,\u001b[49m\u001b[43m \u001b[49m\u001b[43m*\u001b[49m\u001b[43m*\u001b[49m\u001b[43mkwargs\u001b[49m\u001b[43m)\u001b[49m\n\u001b[32m    488\u001b[39m \u001b[38;5;28mself\u001b[39m._optimizer_step_code()\n\u001b[32m    490\u001b[39m \u001b[38;5;66;03m# call optimizer step post hooks\u001b[39;00m\n",
      "\u001b[36mFile \u001b[39m\u001b[32m~/anaconda3/envs/healpy_env/lib/python3.11/site-packages/torch/utils/_contextlib.py:116\u001b[39m, in \u001b[36mcontext_decorator.<locals>.decorate_context\u001b[39m\u001b[34m(*args, **kwargs)\u001b[39m\n\u001b[32m    113\u001b[39m \u001b[38;5;129m@functools\u001b[39m.wraps(func)\n\u001b[32m    114\u001b[39m \u001b[38;5;28;01mdef\u001b[39;00m\u001b[38;5;250m \u001b[39m\u001b[34mdecorate_context\u001b[39m(*args, **kwargs):\n\u001b[32m    115\u001b[39m     \u001b[38;5;28;01mwith\u001b[39;00m ctx_factory():\n\u001b[32m--> \u001b[39m\u001b[32m116\u001b[39m         \u001b[38;5;28;01mreturn\u001b[39;00m \u001b[43mfunc\u001b[49m\u001b[43m(\u001b[49m\u001b[43m*\u001b[49m\u001b[43margs\u001b[49m\u001b[43m,\u001b[49m\u001b[43m \u001b[49m\u001b[43m*\u001b[49m\u001b[43m*\u001b[49m\u001b[43mkwargs\u001b[49m\u001b[43m)\u001b[49m\n",
      "\u001b[36mFile \u001b[39m\u001b[32m~/anaconda3/envs/healpy_env/lib/python3.11/site-packages/torch/optim/lbfgs.py:457\u001b[39m, in \u001b[36mLBFGS.step\u001b[39m\u001b[34m(self, closure)\u001b[39m\n\u001b[32m    452\u001b[39m \u001b[38;5;28;01mif\u001b[39;00m n_iter != max_iter:\n\u001b[32m    453\u001b[39m     \u001b[38;5;66;03m# re-evaluate function only if not in last iteration\u001b[39;00m\n\u001b[32m    454\u001b[39m     \u001b[38;5;66;03m# the reason we do this: in a stochastic setting,\u001b[39;00m\n\u001b[32m    455\u001b[39m     \u001b[38;5;66;03m# no use to re-evaluate that function here\u001b[39;00m\n\u001b[32m    456\u001b[39m     \u001b[38;5;28;01mwith\u001b[39;00m torch.enable_grad():\n\u001b[32m--> \u001b[39m\u001b[32m457\u001b[39m         loss = \u001b[38;5;28mfloat\u001b[39m(\u001b[43mclosure\u001b[49m\u001b[43m(\u001b[49m\u001b[43m)\u001b[49m)\n\u001b[32m    458\u001b[39m     flat_grad = \u001b[38;5;28mself\u001b[39m._gather_flat_grad()\n\u001b[32m    459\u001b[39m     opt_cond = flat_grad.abs().max() <= tolerance_grad\n",
      "\u001b[36mFile \u001b[39m\u001b[32m~/anaconda3/envs/healpy_env/lib/python3.11/site-packages/torch/utils/_contextlib.py:116\u001b[39m, in \u001b[36mcontext_decorator.<locals>.decorate_context\u001b[39m\u001b[34m(*args, **kwargs)\u001b[39m\n\u001b[32m    113\u001b[39m \u001b[38;5;129m@functools\u001b[39m.wraps(func)\n\u001b[32m    114\u001b[39m \u001b[38;5;28;01mdef\u001b[39;00m\u001b[38;5;250m \u001b[39m\u001b[34mdecorate_context\u001b[39m(*args, **kwargs):\n\u001b[32m    115\u001b[39m     \u001b[38;5;28;01mwith\u001b[39;00m ctx_factory():\n\u001b[32m--> \u001b[39m\u001b[32m116\u001b[39m         \u001b[38;5;28;01mreturn\u001b[39;00m \u001b[43mfunc\u001b[49m\u001b[43m(\u001b[49m\u001b[43m*\u001b[49m\u001b[43margs\u001b[49m\u001b[43m,\u001b[49m\u001b[43m \u001b[49m\u001b[43m*\u001b[49m\u001b[43m*\u001b[49m\u001b[43mkwargs\u001b[49m\u001b[43m)\u001b[49m\n",
      "\u001b[36mFile \u001b[39m\u001b[32m~/Desktop/ScatteringDenoising/denoising/__init__.py:748\u001b[39m, in \u001b[36mdenoise_general.<locals>.closure\u001b[39m\u001b[34m()\u001b[39m\n\u001b[32m    745\u001b[39m synthesized_images = image_model.get_images()\n\u001b[32m    747\u001b[39m \u001b[38;5;66;03m# Compute the loss using the loss function with all targets and synthesized images\u001b[39;00m\n\u001b[32m--> \u001b[39m\u001b[32m748\u001b[39m loss = \u001b[43mloss_function\u001b[49m\u001b[43m(\u001b[49m\u001b[43m*\u001b[49m\u001b[43mtargets\u001b[49m\u001b[43m,\u001b[49m\u001b[43m \u001b[49m\u001b[43m*\u001b[49m\u001b[43msynthesized_images\u001b[49m\u001b[43m)\u001b[49m\n\u001b[32m    750\u001b[39m \u001b[38;5;66;03m# Check for NaN loss\u001b[39;00m\n\u001b[32m    751\u001b[39m \u001b[38;5;28;01mif\u001b[39;00m torch.isnan(loss):\n",
      "\u001b[36mFile \u001b[39m\u001b[32m~/Desktop/ScatteringDenoising/denoising/__init__.py:491\u001b[39m, in \u001b[36mdenoise.<locals>.loss_func\u001b[39m\u001b[34m(*args)\u001b[39m\n\u001b[32m    483\u001b[39m mean_std = std[\u001b[33m'\u001b[39m\u001b[33mnoise_mean_std\u001b[39m\u001b[33m'\u001b[39m]\n\u001b[32m    485\u001b[39m \u001b[38;5;28;01mif\u001b[39;00m epochNo \u001b[38;5;129;01mis\u001b[39;00m \u001b[38;5;28;01mNone\u001b[39;00m \u001b[38;5;129;01mor\u001b[39;00m epochNo % \u001b[32m2\u001b[39m == \u001b[32m0\u001b[39m:\n\u001b[32m    486\u001b[39m     loss_terms = [\n\u001b[32m    487\u001b[39m         loss_func_single(targets[\u001b[32m0\u001b[39m], images[\u001b[32m0\u001b[39m], std_single[\u001b[32m0\u001b[39m], contamination_arr[:, \u001b[32m0\u001b[39m]),\n\u001b[32m    488\u001b[39m         loss_func_single(targets[\u001b[32m1\u001b[39m], images[\u001b[32m1\u001b[39m], std_single[\u001b[32m1\u001b[39m], contamination_arr[:, \u001b[32m1\u001b[39m]),\n\u001b[32m    489\u001b[39m         loss_func_partial(targets[\u001b[32m0\u001b[39m], images[\u001b[32m0\u001b[39m], fixed_img, std_partial[\u001b[32m0\u001b[39m], contamination_arr[:, \u001b[32m0\u001b[39m]),\n\u001b[32m    490\u001b[39m         loss_func_partial(targets[\u001b[32m0\u001b[39m], images[\u001b[32m0\u001b[39m], fixed_img, std_partial[\u001b[32m1\u001b[39m], contamination_arr[:, \u001b[32m1\u001b[39m]),\n\u001b[32m--> \u001b[39m\u001b[32m491\u001b[39m         \u001b[43mloss_func_double\u001b[49m\u001b[43m(\u001b[49m\u001b[43mtargets\u001b[49m\u001b[43m[\u001b[49m\u001b[32;43m0\u001b[39;49m\u001b[43m]\u001b[49m\u001b[43m,\u001b[49m\u001b[43m \u001b[49m\u001b[43mimages\u001b[49m\u001b[43m[\u001b[49m\u001b[32;43m0\u001b[39;49m\u001b[43m]\u001b[49m\u001b[43m,\u001b[49m\u001b[43m \u001b[49m\u001b[43mtargets\u001b[49m\u001b[43m[\u001b[49m\u001b[32;43m1\u001b[39;49m\u001b[43m]\u001b[49m\u001b[43m,\u001b[49m\u001b[43m \u001b[49m\u001b[43mimages\u001b[49m\u001b[43m[\u001b[49m\u001b[32;43m1\u001b[39;49m\u001b[43m]\u001b[49m\u001b[43m,\u001b[49m\u001b[43m \u001b[49m\u001b[43mstd_double\u001b[49m\u001b[43m,\u001b[49m\u001b[43m \u001b[49m\u001b[43mcontamination_arr\u001b[49m\u001b[43m)\u001b[49m,\n\u001b[32m    492\u001b[39m         loss_func_CC(targets[\u001b[32m0\u001b[39m], images[\u001b[32m0\u001b[39m], mean_std[\u001b[32m0\u001b[39m]),\n\u001b[32m    493\u001b[39m         loss_func_CC(targets[\u001b[32m1\u001b[39m], images[\u001b[32m1\u001b[39m], mean_std[\u001b[32m1\u001b[39m])\n\u001b[32m    494\u001b[39m     ]\n\u001b[32m    495\u001b[39m \u001b[38;5;28;01melse\u001b[39;00m:\n\u001b[32m    496\u001b[39m     loss_terms = [\n\u001b[32m    497\u001b[39m         loss_func_single(targets[\u001b[32m0\u001b[39m], images[\u001b[32m0\u001b[39m], std_single[\u001b[32m0\u001b[39m], contamination_arr[:, \u001b[32m0\u001b[39m]),\n\u001b[32m    498\u001b[39m         loss_func_single(targets[\u001b[32m1\u001b[39m], images[\u001b[32m1\u001b[39m], std_single[\u001b[32m1\u001b[39m], contamination_arr[:, \u001b[32m1\u001b[39m]),\n\u001b[32m   (...)\u001b[39m\u001b[32m    503\u001b[39m         loss_func_CC(targets[\u001b[32m1\u001b[39m], images[\u001b[32m1\u001b[39m], mean_std[\u001b[32m1\u001b[39m])\n\u001b[32m    504\u001b[39m     ]\n",
      "\u001b[36mFile \u001b[39m\u001b[32m~/Desktop/ScatteringDenoising/denoising/__init__.py:645\u001b[39m, in \u001b[36mdenoise.<locals>.loss_func_double\u001b[39m\u001b[34m(target1, image1, target2, image2, std_double, contamination_arr)\u001b[39m\n\u001b[32m    640\u001b[39m cont_images2 = image2.unsqueeze(\u001b[32m0\u001b[39m) + cont2  \u001b[38;5;66;03m# (n_realizations, 1, H, W)\u001b[39;00m\n\u001b[32m    642\u001b[39m \u001b[38;5;66;03m# Step 3: Compute noisy statistics in batched mode\u001b[39;00m\n\u001b[32m    643\u001b[39m \u001b[38;5;66;03m# Assume func supports batched inputs: (B, 1, H, W), (1, H, W), (B, 1, H, W), (1, H, W)\u001b[39;00m\n\u001b[32m    644\u001b[39m \u001b[38;5;66;03m# Output: (B, N_coeffs)\u001b[39;00m\n\u001b[32m--> \u001b[39m\u001b[32m645\u001b[39m noisy_stats_tensor = \u001b[43mfunc\u001b[49m\u001b[43m(\u001b[49m\u001b[43mcont_images1\u001b[49m\u001b[43m[\u001b[49m\u001b[43m:\u001b[49m\u001b[43m,\u001b[49m\u001b[43m \u001b[49m\u001b[32;43m0\u001b[39;49m\u001b[43m]\u001b[49m\u001b[43m,\u001b[49m\u001b[43m \u001b[49m\u001b[43mtarget1\u001b[49m\u001b[43m,\u001b[49m\u001b[43m \u001b[49m\u001b[43mcont_images2\u001b[49m\u001b[43m[\u001b[49m\u001b[43m:\u001b[49m\u001b[43m,\u001b[49m\u001b[43m \u001b[49m\u001b[32;43m0\u001b[39;49m\u001b[43m]\u001b[49m\u001b[43m,\u001b[49m\u001b[43m \u001b[49m\u001b[43mtarget2\u001b[49m\u001b[43m)\u001b[49m  \u001b[38;5;66;03m# (n_realizations, N_coeffs)\u001b[39;00m\n\u001b[32m    647\u001b[39m \u001b[38;5;66;03m# Step 4: Normalize and compute loss\u001b[39;00m\n\u001b[32m    648\u001b[39m diff = noisy_stats_tensor - target_stats[\u001b[38;5;28;01mNone\u001b[39;00m, :]\n",
      "\u001b[36mFile \u001b[39m\u001b[32m~/Desktop/ScatteringDenoising/denoising/__init__.py:471\u001b[39m, in \u001b[36mdenoise.<locals>.func\u001b[39m\u001b[34m(map1, ref_map1, map2, ref_map2)\u001b[39m\n\u001b[32m    464\u001b[39m             coeff_dict = st_calc.scattering_cov_2fields(\n\u001b[32m    465\u001b[39m                 x1, x2, use_ref=\u001b[38;5;28;01mTrue\u001b[39;00m, if_large_batch=if_large_batch, C11_criteria=C11_criteria,\n\u001b[32m    466\u001b[39m                 normalization=normalization, remove_edge=remove_edge\n\u001b[32m    467\u001b[39m             )\n\u001b[32m    468\u001b[39m             \u001b[38;5;28;01mreturn\u001b[39;00m s_cov_func_2fields(coeff_dict)\n\u001b[32m--> \u001b[39m\u001b[32m471\u001b[39m     coef_list.append(\u001b[43mfunc_s\u001b[49m\u001b[43m(\u001b[49m\u001b[43mmap1\u001b[49m\u001b[43m,\u001b[49m\u001b[43m \u001b[49m\u001b[43mmap2\u001b[49m\u001b[43m)\u001b[49m)\n\u001b[32m    473\u001b[39m \u001b[38;5;28;01mreturn\u001b[39;00m torch.cat(coef_list, axis=-\u001b[32m1\u001b[39m)\n",
      "\u001b[36mFile \u001b[39m\u001b[32m~/Desktop/ScatteringDenoising/denoising/__init__.py:457\u001b[39m, in \u001b[36mdenoise.<locals>.func.<locals>.func_s\u001b[39m\u001b[34m(x1, x2)\u001b[39m\n\u001b[32m    456\u001b[39m \u001b[38;5;28;01mdef\u001b[39;00m\u001b[38;5;250m \u001b[39m\u001b[34mfunc_s\u001b[39m(x1, x2):\n\u001b[32m--> \u001b[39m\u001b[32m457\u001b[39m     coeff_dict = \u001b[43mst_calc\u001b[49m\u001b[43m.\u001b[49m\u001b[43mscattering_cov_2fields\u001b[49m\u001b[43m(\u001b[49m\n\u001b[32m    458\u001b[39m \u001b[43m        \u001b[49m\u001b[43mx1\u001b[49m\u001b[43m,\u001b[49m\u001b[43m \u001b[49m\u001b[43mx2\u001b[49m\u001b[43m,\u001b[49m\u001b[43m \u001b[49m\u001b[43muse_ref\u001b[49m\u001b[43m=\u001b[49m\u001b[38;5;28;43;01mTrue\u001b[39;49;00m\u001b[43m,\u001b[49m\u001b[43m \u001b[49m\u001b[43mif_large_batch\u001b[49m\u001b[43m=\u001b[49m\u001b[43mif_large_batch\u001b[49m\u001b[43m,\u001b[49m\u001b[43m \u001b[49m\u001b[43mC11_criteria\u001b[49m\u001b[43m=\u001b[49m\u001b[43mC11_criteria\u001b[49m\u001b[43m,\u001b[49m\n\u001b[32m    459\u001b[39m \u001b[43m        \u001b[49m\u001b[43mnormalization\u001b[49m\u001b[43m=\u001b[49m\u001b[43mnormalization\u001b[49m\u001b[43m,\u001b[49m\u001b[43m \u001b[49m\u001b[43mremove_edge\u001b[49m\u001b[43m=\u001b[49m\u001b[43mremove_edge\u001b[49m\n\u001b[32m    460\u001b[39m \u001b[43m    \u001b[49m\u001b[43m)\u001b[49m\n\u001b[32m    461\u001b[39m     \u001b[38;5;28;01mreturn\u001b[39;00m coeff_dict[\u001b[33m'\u001b[39m\u001b[33mfor_synthesis\u001b[39m\u001b[33m'\u001b[39m]\n",
      "\u001b[36mFile \u001b[39m\u001b[32m~/Desktop/ScatteringDenoising/denoising/Scattering2d.py:1025\u001b[39m, in \u001b[36mScattering2d.scattering_cov_2fields\u001b[39m\u001b[34m(self, data_a, data_b, if_large_batch, C11_criteria, use_ref, normalization, remove_edge)\u001b[39m\n\u001b[32m   1011\u001b[39m     C11[:,\u001b[32m0\u001b[39m,j1,j2,j3,:,:,:] = (\n\u001b[32m   1012\u001b[39m         I1_a_f_small[:,j1].view(N_image,L,\u001b[32m1\u001b[39m,\u001b[32m1\u001b[39m,M3,N3) * \n\u001b[32m   1013\u001b[39m         torch.conj(I1_a_f_small[:,j2].view(N_image,\u001b[32m1\u001b[39m,L,\u001b[32m1\u001b[39m,M3,N3)) *\n\u001b[32m   1014\u001b[39m         wavelet_f3_squared.view(\u001b[32m1\u001b[39m,\u001b[32m1\u001b[39m,\u001b[32m1\u001b[39m,L,M3,N3)\n\u001b[32m   1015\u001b[39m     ).mean((-\u001b[32m2\u001b[39m,-\u001b[32m1\u001b[39m)) * fft_factor\n\u001b[32m   1016\u001b[39m     C11[:,\u001b[32m1\u001b[39m,j1,j2,j3,:,:,:] = (\n\u001b[32m   1017\u001b[39m         I1_b_f_small[:,j1].view(N_image,L,\u001b[32m1\u001b[39m,\u001b[32m1\u001b[39m,M3,N3) * \n\u001b[32m   1018\u001b[39m         torch.conj(I1_b_f_small[:,j2].view(N_image,\u001b[32m1\u001b[39m,L,\u001b[32m1\u001b[39m,M3,N3)) *\n\u001b[32m   1019\u001b[39m         wavelet_f3_squared.view(\u001b[32m1\u001b[39m,\u001b[32m1\u001b[39m,\u001b[32m1\u001b[39m,L,M3,N3)\n\u001b[32m   1020\u001b[39m     ).mean((-\u001b[32m2\u001b[39m,-\u001b[32m1\u001b[39m)) * fft_factor\n\u001b[32m   1021\u001b[39m     C11[:,\u001b[32m2\u001b[39m,j1,j2,j3,:,:,:] = \u001b[43m(\u001b[49m\n\u001b[32m   1022\u001b[39m \u001b[43m        \u001b[49m\u001b[43mI1_a_f_small\u001b[49m\u001b[43m[\u001b[49m\u001b[43m:\u001b[49m\u001b[43m,\u001b[49m\u001b[43mj1\u001b[49m\u001b[43m]\u001b[49m\u001b[43m.\u001b[49m\u001b[43mview\u001b[49m\u001b[43m(\u001b[49m\u001b[43mN_image\u001b[49m\u001b[43m,\u001b[49m\u001b[43mL\u001b[49m\u001b[43m,\u001b[49m\u001b[32;43m1\u001b[39;49m\u001b[43m,\u001b[49m\u001b[32;43m1\u001b[39;49m\u001b[43m,\u001b[49m\u001b[43mM3\u001b[49m\u001b[43m,\u001b[49m\u001b[43mN3\u001b[49m\u001b[43m)\u001b[49m\u001b[43m \u001b[49m\u001b[43m*\u001b[49m\u001b[43m \u001b[49m\n\u001b[32m   1023\u001b[39m \u001b[43m        \u001b[49m\u001b[43mtorch\u001b[49m\u001b[43m.\u001b[49m\u001b[43mconj\u001b[49m\u001b[43m(\u001b[49m\u001b[43mI1_b_f_small\u001b[49m\u001b[43m[\u001b[49m\u001b[43m:\u001b[49m\u001b[43m,\u001b[49m\u001b[43mj2\u001b[49m\u001b[43m]\u001b[49m\u001b[43m.\u001b[49m\u001b[43mview\u001b[49m\u001b[43m(\u001b[49m\u001b[43mN_image\u001b[49m\u001b[43m,\u001b[49m\u001b[32;43m1\u001b[39;49m\u001b[43m,\u001b[49m\u001b[43mL\u001b[49m\u001b[43m,\u001b[49m\u001b[32;43m1\u001b[39;49m\u001b[43m,\u001b[49m\u001b[43mM3\u001b[49m\u001b[43m,\u001b[49m\u001b[43mN3\u001b[49m\u001b[43m)\u001b[49m\u001b[43m)\u001b[49m\u001b[43m \u001b[49m\u001b[43m*\u001b[49m\n\u001b[32m   1024\u001b[39m \u001b[43m        \u001b[49m\u001b[43mwavelet_f3_squared\u001b[49m\u001b[43m.\u001b[49m\u001b[43mview\u001b[49m\u001b[43m(\u001b[49m\u001b[32;43m1\u001b[39;49m\u001b[43m,\u001b[49m\u001b[32;43m1\u001b[39;49m\u001b[43m,\u001b[49m\u001b[32;43m1\u001b[39;49m\u001b[43m,\u001b[49m\u001b[43mL\u001b[49m\u001b[43m,\u001b[49m\u001b[43mM3\u001b[49m\u001b[43m,\u001b[49m\u001b[43mN3\u001b[49m\u001b[43m)\u001b[49m\n\u001b[32m-> \u001b[39m\u001b[32m1025\u001b[39m \u001b[43m    \u001b[49m\u001b[43m)\u001b[49m\u001b[43m.\u001b[49m\u001b[43mmean\u001b[49m\u001b[43m(\u001b[49m\u001b[43m(\u001b[49m\u001b[43m-\u001b[49m\u001b[32;43m2\u001b[39;49m\u001b[43m,\u001b[49m\u001b[43m-\u001b[49m\u001b[32;43m1\u001b[39;49m\u001b[43m)\u001b[49m\u001b[43m)\u001b[49m * fft_factor\n\u001b[32m   1026\u001b[39m     C11[:,\u001b[32m3\u001b[39m,j1,j2,j3,:,:,:] = (\n\u001b[32m   1027\u001b[39m         I1_b_f_small[:,j1].view(N_image,L,\u001b[32m1\u001b[39m,\u001b[32m1\u001b[39m,M3,N3) * \n\u001b[32m   1028\u001b[39m         torch.conj(I1_a_f_small[:,j2].view(N_image,\u001b[32m1\u001b[39m,L,\u001b[32m1\u001b[39m,M3,N3)) *\n\u001b[32m   1029\u001b[39m         wavelet_f3_squared.view(\u001b[32m1\u001b[39m,\u001b[32m1\u001b[39m,\u001b[32m1\u001b[39m,L,M3,N3)\n\u001b[32m   1030\u001b[39m     ).mean((-\u001b[32m2\u001b[39m,-\u001b[32m1\u001b[39m)) * fft_factor\n\u001b[32m   1031\u001b[39m \u001b[38;5;28;01melse\u001b[39;00m:\n",
      "\u001b[31mKeyboardInterrupt\u001b[39m: "
     ]
    }
   ],
   "source": [
    "image_init = image_target\n",
    "\n",
    "n_epochs = 3 #number of epochs\n",
    "# decontaminate\n",
    "for i in range(n_epochs):\n",
    "    print(f'Starting epoch {i+1}')\n",
    "    running_map = denoising.denoise(image_target, contamination_arr = contamination_arr, fixed_img=signal_I, \n",
    "                                    std = std, seed=0, print_each_step=False, steps = 25, n_batch = 25, \n",
    "                                    s_cov_func=threshold_func, image_init = image_init, remove_edge=remove_edge, \n",
    "                                    precision='double')\n",
    "    running_map = (running_map[0], running_map[1])\n",
    "\n",
    "    std = {\n",
    "    'single': denoising.compute_std(running_map, contamination_arr=contamination_arr,\n",
    "                                    s_cov_func=threshold_func, remove_edge=remove_edge, precision='double'),\n",
    "\n",
    "    'partial': denoising.compute_std_partial(running_map, contamination_arr, signal_I,\n",
    "                                           remove_edge=remove_edge, precision='double'),                               \n",
    "\n",
    "    'double': denoising.compute_std_double(running_map, contamination_arr=contamination_arr,\n",
    "                                           remove_edge=remove_edge, precision='double'),\n",
    "\n",
    "    'noise_mean_std': std['noise_mean_std']\n",
    "}\n",
    "\n",
    "image_syn_Q = running_map[0]\n",
    "image_syn_U = running_map[1]"
   ]
  },
  {
   "cell_type": "code",
   "execution_count": 20,
   "metadata": {},
   "outputs": [],
   "source": [
    "# Convert tuples to NumPy arrays\n",
    "image_denoised = np.stack([image_syn_Q[0], image_syn_U[0]])  # Ensure it's an array\n",
    "\n",
    "# Save results\n",
    "np.save(f\"image_denoised_patch_{patch}.npy\", image_denoised)"
   ]
  },
  {
   "cell_type": "code",
   "execution_count": 21,
   "metadata": {},
   "outputs": [
    {
     "ename": "NameError",
     "evalue": "name 'image_syn_I' is not defined",
     "output_type": "error",
     "traceback": [
      "\u001b[31m---------------------------------------------------------------------------\u001b[39m",
      "\u001b[31mNameError\u001b[39m                                 Traceback (most recent call last)",
      "\u001b[36mCell\u001b[39m\u001b[36m \u001b[39m\u001b[32mIn[21]\u001b[39m\u001b[32m, line 2\u001b[39m\n\u001b[32m      1\u001b[39m \u001b[38;5;66;03m# Convert tuples to NumPy arrays\u001b[39;00m\n\u001b[32m----> \u001b[39m\u001b[32m2\u001b[39m image_denoised = np.stack([\u001b[43mimage_syn_I\u001b[49m[\u001b[32m0\u001b[39m], image_syn_Q[\u001b[32m0\u001b[39m], image_syn_U[\u001b[32m0\u001b[39m]])  \u001b[38;5;66;03m# Ensure it's an array\u001b[39;00m\n\u001b[32m      4\u001b[39m \u001b[38;5;66;03m# Save results\u001b[39;00m\n\u001b[32m      5\u001b[39m np.save(\u001b[33mf\u001b[39m\u001b[33m\"\u001b[39m\u001b[33mimage_denoised_patch_\u001b[39m\u001b[38;5;132;01m{\u001b[39;00mpatch\u001b[38;5;132;01m}\u001b[39;00m\u001b[33m_test.npy\u001b[39m\u001b[33m\"\u001b[39m, image_denoised)\n",
      "\u001b[31mNameError\u001b[39m: name 'image_syn_I' is not defined"
     ]
    }
   ],
   "source": [
    "# Convert tuples to NumPy arrays\n",
    "image_denoised = np.stack([image_syn_I[0], image_syn_Q[0], image_syn_U[0]])  # Ensure it's an array\n",
    "\n",
    "# Save results\n",
    "np.save(f\"image_denoised_patch_{patch}_test.npy\", image_denoised)"
   ]
  }
 ],
 "metadata": {
  "kernelspec": {
   "display_name": "healpy_env",
   "language": "python",
   "name": "python3"
  },
  "language_info": {
   "codemirror_mode": {
    "name": "ipython",
    "version": 3
   },
   "file_extension": ".py",
   "mimetype": "text/x-python",
   "name": "python",
   "nbconvert_exporter": "python",
   "pygments_lexer": "ipython3",
   "version": "3.11.12"
  }
 },
 "nbformat": 4,
 "nbformat_minor": 2
}
