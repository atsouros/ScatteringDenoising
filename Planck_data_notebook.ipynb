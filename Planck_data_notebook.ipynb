{
 "cells": [
  {
   "cell_type": "code",
   "execution_count": 1,
   "metadata": {},
   "outputs": [],
   "source": [
    "import numpy as np\n",
    "import torch\n",
    "\n",
    "import denoising\n",
    "import importlib\n",
    "denoising = importlib.reload(denoising)\n",
    "import utils\n",
    "utils = importlib.reload(utils)\n",
    "\n",
    "# import packages\n",
    "import math\n",
    "np.math = math  # Redirect numpy.math to the built-in math module\n",
    "\n",
    "import glob"
   ]
  },
  {
   "cell_type": "code",
   "execution_count": 2,
   "metadata": {},
   "outputs": [],
   "source": [
    "# Define patch number\n",
    "patch = \"166\"\n",
    "\n",
    "base_path = f\"/Users/tsouros/Desktop/Planck data/BK_CMB_S4_north_patch/\"\n",
    "\n",
    "# Find the file using a wildcard\n",
    "i_path = glob.glob(f\"{base_path}signal/patch_{patch}/patch_{patch}_I*.npy\")[0]\n",
    "q_path = glob.glob(f\"{base_path}signal/patch_{patch}/patch_{patch}_Q*.npy\")[0]\n",
    "u_path = glob.glob(f\"{base_path}signal/patch_{patch}/patch_{patch}_U*.npy\")[0]\n",
    "\n",
    "# Load it\n",
    "signal_Q = np.load(q_path)\n",
    "signal_Q = utils.downsample_by_four(signal_Q)\n",
    "signal_Q = signal_Q[None, :, :]\n",
    "\n",
    "# Load it\n",
    "signal_U = np.load(u_path)\n",
    "signal_U = utils.downsample_by_four(signal_U)\n",
    "signal_U = signal_U[None, :, :]\n",
    "\n",
    "# Load it\n",
    "signal_I = np.load(i_path)\n",
    "signal_I = utils.downsample_by_four(signal_I)\n",
    "signal_I = signal_I[None, :, :]\n",
    "\n",
    "# Define base nuisance directory\n",
    "\n",
    "# Get sorted list of file paths from Stokes_Q and Stokes_U directories\n",
    "nuisance_I = sorted(glob.glob(f\"{base_path}nuisance/patch_{patch}/Stokes_I/patch_{patch}_noise_I*.npy\"))\n",
    "nuisance_Q = sorted(glob.glob(f\"{base_path}nuisance/patch_{patch}/Stokes_Q/patch_{patch}_noise_Q*.npy\"))\n",
    "nuisance_U = sorted(glob.glob(f\"{base_path}nuisance/patch_{patch}/Stokes_U/patch_{patch}_noise_U*.npy\"))\n",
    "\n",
    "# Load and downsample\n",
    "contamination_arr_I = np.stack([utils.downsample_by_four(np.load(f))[None, :, :] for f in nuisance_I], axis=0)\n",
    "contamination_arr_Q = np.stack([utils.downsample_by_four(np.load(f))[None, :, :] for f in nuisance_Q], axis=0)\n",
    "contamination_arr_U = np.stack([utils.downsample_by_four(np.load(f))[None, :, :] for f in nuisance_U], axis=0)\n",
    "\n",
    "# Stack into shape (N_maps, 3, 768, 768)\n",
    "contamination_arr = np.stack([contamination_arr_I, contamination_arr_Q, contamination_arr_U], axis=1)"
   ]
  },
  {
   "cell_type": "code",
   "execution_count": 3,
   "metadata": {},
   "outputs": [],
   "source": [
    "image_target = (signal_I, signal_Q, signal_U)\n",
    "threshold_func = None\n",
    "remove_edge = False\n",
    "std = denoising.compute_std(image_target, contamination_arr = contamination_arr, s_cov_func = threshold_func, remove_edge=remove_edge, precision='double')\n",
    "std_double = denoising.compute_std_double(image_target, contamination_arr = contamination_arr, remove_edge=remove_edge, precision='double')"
   ]
  },
  {
   "cell_type": "code",
   "execution_count": null,
   "metadata": {},
   "outputs": [
    {
     "name": "stdout",
     "output_type": "stream",
     "text": [
      "Starting epoch 1\n",
      "# of estimators:  54827\n",
      "Current Loss: 3.84e+01\n"
     ]
    }
   ],
   "source": [
    "image_init = image_target\n",
    "\n",
    "n_epochs = 3 #number of epochs\n",
    "# decontaminate\n",
    "for i in range(n_epochs):\n",
    "    print(f'Starting epoch {i+1}')\n",
    "    running_map = denoising.denoise(image_target, contamination_arr = contamination_arr, std = std, std_double=std_double ,seed=0, print_each_step=True, steps = 25, n_batch = 25, s_cov_func=threshold_func, image_init = image_init, remove_edge=remove_edge, precision='double')\n",
    "    running_map = (running_map[0], running_map[1], running_map[2])\n",
    "\n",
    "    std = denoising.compute_std(running_map, contamination_arr = contamination_arr, remove_edge=remove_edge)\n",
    "    std_double = denoising.compute_std_double(running_map, contamination_arr = contamination_arr, remove_edge=remove_edge)\n",
    "\n",
    "image_syn_I = running_map[0]\n",
    "image_syn_Q = running_map[1]\n",
    "image_syn_U = running_map[2]"
   ]
  },
  {
   "cell_type": "code",
   "execution_count": null,
   "metadata": {},
   "outputs": [],
   "source": [
    "# Convert tuples to NumPy arrays\n",
    "image_denoised = np.stack([image_syn_I[0], image_syn_Q[0], image_syn_U[0]])  # Ensure it's an array\n",
    "\n",
    "# Save results\n",
    "np.save(f\"image_denoised_patch_{patch}.npy\", image_denoised)"
   ]
  }
 ],
 "metadata": {
  "kernelspec": {
   "display_name": "healpy_env",
   "language": "python",
   "name": "python3"
  },
  "language_info": {
   "codemirror_mode": {
    "name": "ipython",
    "version": 3
   },
   "file_extension": ".py",
   "mimetype": "text/x-python",
   "name": "python",
   "nbconvert_exporter": "python",
   "pygments_lexer": "ipython3",
   "version": "3.11.11"
  }
 },
 "nbformat": 4,
 "nbformat_minor": 2
}
